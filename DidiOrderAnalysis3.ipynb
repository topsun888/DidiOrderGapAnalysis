{
 "cells": [
  {
   "cell_type": "markdown",
   "metadata": {},
   "source": [
    "# Read Data"
   ]
  },
  {
   "cell_type": "code",
   "execution_count": 1,
   "metadata": {
    "collapsed": true
   },
   "outputs": [],
   "source": [
    "import pandas as pd\n",
    "import numpy as np\n",
    "import os\n",
    "import pylab as pl\n",
    "%matplotlib inline"
   ]
  },
  {
   "cell_type": "code",
   "execution_count": 2,
   "metadata": {
    "collapsed": false
   },
   "outputs": [
    {
     "data": {
      "text/plain": [
       "'D:\\\\Documents\\\\MyProjects\\\\DidiOrder\\\\DidiOrderGapAnalysis'"
      ]
     },
     "execution_count": 2,
     "metadata": {},
     "output_type": "execute_result"
    }
   ],
   "source": [
    "root_path = os.getcwd()\n",
    "training_data_path = root_path + '/training_data'\n",
    "testing_data_path = root_path + '/testing_data'\n",
    "root_path"
   ]
  },
  {
   "cell_type": "markdown",
   "metadata": {},
   "source": [
    "### Order Data"
   ]
  },
  {
   "cell_type": "markdown",
   "metadata": {},
   "source": [
    "#### Training Data"
   ]
  },
  {
   "cell_type": "code",
   "execution_count": 5,
   "metadata": {
    "collapsed": true
   },
   "outputs": [],
   "source": [
    "def ReadOrderData(order_path):\n",
    "    order_files = os.listdir(order_path)\n",
    "    order = pd.DataFrame(data=None, columns=['order_id', 'driver_id', 'passenger_id', 'start_district_hash', \n",
    "                                    'dest_district_hash', 'price', 'time'])\n",
    "    for file in order_files:\n",
    "        filepath = order_path + '/' + file\n",
    "        temp = pd.read_csv(filepath, names=['order_id', 'driver_id', 'passenger_id', 'start_district_hash', \n",
    "                                    'dest_district_hash', 'price', 'time'], sep='\\t')\n",
    "        order = order.append(temp)\n",
    "    return order"
   ]
  },
  {
   "cell_type": "code",
   "execution_count": 6,
   "metadata": {
    "collapsed": false
   },
   "outputs": [],
   "source": [
    "order_training_path = training_data_path + '/order_data'\n",
    "order_train = ReadOrderData(order_training_path)"
   ]
  },
  {
   "cell_type": "code",
   "execution_count": 7,
   "metadata": {
    "collapsed": false
   },
   "outputs": [
    {
     "data": {
      "text/plain": [
       "(8540614, 7)"
      ]
     },
     "execution_count": 7,
     "metadata": {},
     "output_type": "execute_result"
    }
   ],
   "source": [
    "order_train.shape"
   ]
  },
  {
   "cell_type": "code",
   "execution_count": 8,
   "metadata": {
    "collapsed": false,
    "scrolled": true
   },
   "outputs": [
    {
     "name": "stdout",
     "output_type": "stream",
     "text": [
      "<class 'pandas.core.frame.DataFrame'>\n",
      "Int64Index: 8540614 entries, 0 to 474339\n",
      "Data columns (total 7 columns):\n",
      "order_id               object\n",
      "driver_id              object\n",
      "passenger_id           object\n",
      "start_district_hash    object\n",
      "dest_district_hash     object\n",
      "price                  float64\n",
      "time                   object\n",
      "dtypes: float64(1), object(6)\n",
      "memory usage: 521.3+ MB\n"
     ]
    }
   ],
   "source": [
    "order_train.info()"
   ]
  },
  {
   "cell_type": "code",
   "execution_count": 9,
   "metadata": {
    "collapsed": true
   },
   "outputs": [],
   "source": [
    "order_train.time = pd.to_datetime(order_train.time)"
   ]
  },
  {
   "cell_type": "markdown",
   "metadata": {},
   "source": [
    "#### Testing Data"
   ]
  },
  {
   "cell_type": "code",
   "execution_count": 10,
   "metadata": {
    "collapsed": false
   },
   "outputs": [],
   "source": [
    "order_testing_path = testing_data_path + '/order_data'\n",
    "order_test = ReadOrderData(order_testing_path)"
   ]
  },
  {
   "cell_type": "code",
   "execution_count": 11,
   "metadata": {
    "collapsed": false
   },
   "outputs": [
    {
     "name": "stdout",
     "output_type": "stream",
     "text": [
      "<class 'pandas.core.frame.DataFrame'>\n",
      "Int64Index: 557985 entries, 0 to 105419\n",
      "Data columns (total 7 columns):\n",
      "order_id               557985 non-null object\n",
      "driver_id              449010 non-null object\n",
      "passenger_id           557985 non-null object\n",
      "start_district_hash    557985 non-null object\n",
      "dest_district_hash     557985 non-null object\n",
      "price                  557985 non-null float64\n",
      "time                   557985 non-null object\n",
      "dtypes: float64(1), object(6)\n",
      "memory usage: 34.1+ MB\n"
     ]
    }
   ],
   "source": [
    "order_test.info()"
   ]
  },
  {
   "cell_type": "code",
   "execution_count": 12,
   "metadata": {
    "collapsed": true
   },
   "outputs": [],
   "source": [
    "order_test.time = pd.to_datetime(order_test.time)"
   ]
  },
  {
   "cell_type": "markdown",
   "metadata": {},
   "source": [
    "### District Data"
   ]
  },
  {
   "cell_type": "code",
   "execution_count": 13,
   "metadata": {
    "collapsed": true
   },
   "outputs": [],
   "source": [
    "district_training_path = training_data_path + '/cluster_map'\n",
    "files = os.listdir(district_training_path)\n",
    "district_train = pd.DataFrame(data=None, columns=['district_hash', 'district_id'])\n",
    "for file in files:\n",
    "    filepath = district_training_path + '/' + file\n",
    "    temp = pd.read_csv(filepath, names=['district_hash', 'district_id'], sep='\\t')\n",
    "    district_train = district_train.append(temp)"
   ]
  },
  {
   "cell_type": "code",
   "execution_count": 14,
   "metadata": {
    "collapsed": false
   },
   "outputs": [
    {
     "data": {
      "text/html": [
       "<div>\n",
       "<table border=\"1\" class=\"dataframe\">\n",
       "  <thead>\n",
       "    <tr style=\"text-align: right;\">\n",
       "      <th></th>\n",
       "      <th>district_hash</th>\n",
       "      <th>district_id</th>\n",
       "    </tr>\n",
       "  </thead>\n",
       "  <tbody>\n",
       "    <tr>\n",
       "      <th>0</th>\n",
       "      <td>90c5a34f06ac86aee0fd70e2adce7d8a</td>\n",
       "      <td>1.0</td>\n",
       "    </tr>\n",
       "    <tr>\n",
       "      <th>1</th>\n",
       "      <td>f2c8c4bb99e6377d21de71275afd6cd2</td>\n",
       "      <td>2.0</td>\n",
       "    </tr>\n",
       "    <tr>\n",
       "      <th>2</th>\n",
       "      <td>58c7a4888306d8ff3a641d1c0feccbe3</td>\n",
       "      <td>3.0</td>\n",
       "    </tr>\n",
       "    <tr>\n",
       "      <th>3</th>\n",
       "      <td>b26a240205c852804ff8758628c0a86a</td>\n",
       "      <td>4.0</td>\n",
       "    </tr>\n",
       "    <tr>\n",
       "      <th>4</th>\n",
       "      <td>4b9e4cf2fbdc8281b8a1f9f12b80ce4d</td>\n",
       "      <td>5.0</td>\n",
       "    </tr>\n",
       "  </tbody>\n",
       "</table>\n",
       "</div>"
      ],
      "text/plain": [
       "                      district_hash  district_id\n",
       "0  90c5a34f06ac86aee0fd70e2adce7d8a          1.0\n",
       "1  f2c8c4bb99e6377d21de71275afd6cd2          2.0\n",
       "2  58c7a4888306d8ff3a641d1c0feccbe3          3.0\n",
       "3  b26a240205c852804ff8758628c0a86a          4.0\n",
       "4  4b9e4cf2fbdc8281b8a1f9f12b80ce4d          5.0"
      ]
     },
     "execution_count": 14,
     "metadata": {},
     "output_type": "execute_result"
    }
   ],
   "source": [
    "district_train.head()"
   ]
  },
  {
   "cell_type": "markdown",
   "metadata": {},
   "source": [
    "### Traffic Data\n",
    "#### Training Data"
   ]
  },
  {
   "cell_type": "code",
   "execution_count": 15,
   "metadata": {
    "collapsed": true
   },
   "outputs": [],
   "source": [
    "def ReadTrafficData(traffic_path):\n",
    "    files = os.listdir(traffic_path)\n",
    "    traffic = pd.DataFrame(data=None, columns=['district_hash', 'tj_level1', 'tj_level2', 'tj_level3', 'tj_level4', 'time'])\n",
    "    for file in files:\n",
    "        filepath = traffic_path + '/' + file\n",
    "        temp = pd.read_csv(filepath, names=['district_hash', 'tj_level1', 'tj_level2', 'tj_level3', 'tj_level4', 'time'], sep='\\t')\n",
    "        traffic = traffic.append(temp)\n",
    "    return traffic"
   ]
  },
  {
   "cell_type": "code",
   "execution_count": 16,
   "metadata": {
    "collapsed": false
   },
   "outputs": [],
   "source": [
    "traffic_training_path = training_data_path + '/traffic_data'\n",
    "traffic_train = ReadTrafficData(traffic_training_path)"
   ]
  },
  {
   "cell_type": "code",
   "execution_count": 17,
   "metadata": {
    "collapsed": false
   },
   "outputs": [
    {
     "data": {
      "text/plain": [
       "(193553, 6)"
      ]
     },
     "execution_count": 17,
     "metadata": {},
     "output_type": "execute_result"
    }
   ],
   "source": [
    "traffic_train.shape"
   ]
  },
  {
   "cell_type": "code",
   "execution_count": 18,
   "metadata": {
    "collapsed": false
   },
   "outputs": [
    {
     "name": "stdout",
     "output_type": "stream",
     "text": [
      "<class 'pandas.core.frame.DataFrame'>\n",
      "Int64Index: 193553 entries, 0 to 9285\n",
      "Data columns (total 6 columns):\n",
      "district_hash    193553 non-null object\n",
      "tj_level1        193553 non-null object\n",
      "tj_level2        193553 non-null object\n",
      "tj_level3        193553 non-null object\n",
      "tj_level4        193553 non-null object\n",
      "time             193553 non-null object\n",
      "dtypes: object(6)\n",
      "memory usage: 10.3+ MB\n"
     ]
    }
   ],
   "source": [
    "traffic_train.info()"
   ]
  },
  {
   "cell_type": "code",
   "execution_count": 19,
   "metadata": {
    "collapsed": true
   },
   "outputs": [],
   "source": [
    "for i in range(4):\n",
    "    traffic_train['tj_level'+str(i+1)] = traffic_train['tj_level'+str(i+1)].map(lambda x:x.split(':')[1])"
   ]
  },
  {
   "cell_type": "code",
   "execution_count": 20,
   "metadata": {
    "collapsed": false
   },
   "outputs": [],
   "source": [
    "traffic_train.time = pd.to_datetime(traffic_train.time)"
   ]
  },
  {
   "cell_type": "code",
   "execution_count": 21,
   "metadata": {
    "collapsed": false
   },
   "outputs": [],
   "source": [
    "for i in range(4):\n",
    "    traffic_train['tj_level'+str(i+1)] = traffic_train['tj_level'+str(i+1)].map(lambda x: float(x))"
   ]
  },
  {
   "cell_type": "code",
   "execution_count": 22,
   "metadata": {
    "collapsed": false
   },
   "outputs": [],
   "source": [
    "traffic_train = pd.merge(traffic_train, district_train, on='district_hash', how='left')"
   ]
  },
  {
   "cell_type": "code",
   "execution_count": 23,
   "metadata": {
    "collapsed": false
   },
   "outputs": [],
   "source": [
    "del traffic_train['district_hash']"
   ]
  },
  {
   "cell_type": "markdown",
   "metadata": {},
   "source": [
    "#### Testing Data"
   ]
  },
  {
   "cell_type": "code",
   "execution_count": 24,
   "metadata": {
    "collapsed": false
   },
   "outputs": [],
   "source": [
    "traffic_testing_path = testing_data_path + '/traffic_data'\n",
    "traffic_test = ReadTrafficData(traffic_testing_path)"
   ]
  },
  {
   "cell_type": "code",
   "execution_count": 25,
   "metadata": {
    "collapsed": false
   },
   "outputs": [],
   "source": [
    "cols = ['tj_level1', 'tj_level2', 'tj_level3', 'tj_level4']\n",
    "for col in cols:\n",
    "    traffic_test[col] = traffic_test[col].map(lambda x: x.split(':')[1])\n",
    "traffic_test.time = pd.to_datetime(traffic_test.time)\n",
    "for i in range(4):\n",
    "    traffic_test['tj_level'+str(i+1)] = traffic_test['tj_level'+str(i+1)].map(lambda x: float(x))"
   ]
  },
  {
   "cell_type": "code",
   "execution_count": 26,
   "metadata": {
    "collapsed": false
   },
   "outputs": [],
   "source": [
    "traffic_test = pd.merge(traffic_test, district_train, on='district_hash', how='left')\n",
    "del traffic_test['district_hash']"
   ]
  },
  {
   "cell_type": "markdown",
   "metadata": {},
   "source": [
    "### Weather Data\n",
    "#### Training Data"
   ]
  },
  {
   "cell_type": "code",
   "execution_count": 27,
   "metadata": {
    "collapsed": true
   },
   "outputs": [],
   "source": [
    "def ReadWeatherData(weather_path):\n",
    "    files = os.listdir(weather_path)\n",
    "    weather = pd.DataFrame(data=None, columns=['time', 'weather', 'temperature', 'pm2.5'])\n",
    "    for file in files:\n",
    "        filepath = weather_path + '/' + file\n",
    "        temp = pd.read_csv(filepath, names=['time', 'weather', 'temperature', 'pm2.5'], sep='\\t')\n",
    "        weather = weather.append(temp)\n",
    "    return weather"
   ]
  },
  {
   "cell_type": "code",
   "execution_count": 28,
   "metadata": {
    "collapsed": true
   },
   "outputs": [],
   "source": [
    "weather_training_path = training_data_path + '/weather_data'\n",
    "weather_train = ReadWeatherData(weather_training_path)"
   ]
  },
  {
   "cell_type": "code",
   "execution_count": 29,
   "metadata": {
    "collapsed": true
   },
   "outputs": [],
   "source": [
    "weather_train.time = pd.to_datetime(weather_train.time)"
   ]
  },
  {
   "cell_type": "code",
   "execution_count": 30,
   "metadata": {
    "collapsed": false
   },
   "outputs": [
    {
     "data": {
      "text/html": [
       "<div>\n",
       "<table border=\"1\" class=\"dataframe\">\n",
       "  <thead>\n",
       "    <tr style=\"text-align: right;\">\n",
       "      <th></th>\n",
       "      <th>time</th>\n",
       "      <th>weather</th>\n",
       "      <th>temperature</th>\n",
       "      <th>pm2.5</th>\n",
       "    </tr>\n",
       "  </thead>\n",
       "  <tbody>\n",
       "    <tr>\n",
       "      <th>0</th>\n",
       "      <td>2016-01-01 00:00:28</td>\n",
       "      <td>1.0</td>\n",
       "      <td>4.0</td>\n",
       "      <td>177.0</td>\n",
       "    </tr>\n",
       "    <tr>\n",
       "      <th>1</th>\n",
       "      <td>2016-01-01 00:05:24</td>\n",
       "      <td>1.0</td>\n",
       "      <td>3.0</td>\n",
       "      <td>177.0</td>\n",
       "    </tr>\n",
       "    <tr>\n",
       "      <th>2</th>\n",
       "      <td>2016-01-01 00:10:08</td>\n",
       "      <td>1.0</td>\n",
       "      <td>3.0</td>\n",
       "      <td>177.0</td>\n",
       "    </tr>\n",
       "    <tr>\n",
       "      <th>3</th>\n",
       "      <td>2016-01-01 00:15:27</td>\n",
       "      <td>1.0</td>\n",
       "      <td>3.0</td>\n",
       "      <td>177.0</td>\n",
       "    </tr>\n",
       "    <tr>\n",
       "      <th>4</th>\n",
       "      <td>2016-01-01 00:20:06</td>\n",
       "      <td>1.0</td>\n",
       "      <td>3.0</td>\n",
       "      <td>177.0</td>\n",
       "    </tr>\n",
       "  </tbody>\n",
       "</table>\n",
       "</div>"
      ],
      "text/plain": [
       "                 time  weather  temperature  pm2.5\n",
       "0 2016-01-01 00:00:28      1.0          4.0  177.0\n",
       "1 2016-01-01 00:05:24      1.0          3.0  177.0\n",
       "2 2016-01-01 00:10:08      1.0          3.0  177.0\n",
       "3 2016-01-01 00:15:27      1.0          3.0  177.0\n",
       "4 2016-01-01 00:20:06      1.0          3.0  177.0"
      ]
     },
     "execution_count": 30,
     "metadata": {},
     "output_type": "execute_result"
    }
   ],
   "source": [
    "weather_train.head()"
   ]
  },
  {
   "cell_type": "markdown",
   "metadata": {},
   "source": [
    "#### Testing Data"
   ]
  },
  {
   "cell_type": "code",
   "execution_count": 31,
   "metadata": {
    "collapsed": false
   },
   "outputs": [],
   "source": [
    "weather_testing_path = testing_data_path + '/weather_data'\n",
    "weather_test = ReadWeatherData(weather_testing_path)"
   ]
  },
  {
   "cell_type": "code",
   "execution_count": 34,
   "metadata": {
    "collapsed": false
   },
   "outputs": [
    {
     "data": {
      "text/html": [
       "<div>\n",
       "<table border=\"1\" class=\"dataframe\">\n",
       "  <thead>\n",
       "    <tr style=\"text-align: right;\">\n",
       "      <th></th>\n",
       "      <th>time</th>\n",
       "      <th>weather</th>\n",
       "      <th>temperature</th>\n",
       "      <th>pm2.5</th>\n",
       "    </tr>\n",
       "  </thead>\n",
       "  <tbody>\n",
       "    <tr>\n",
       "      <th>0</th>\n",
       "      <td>2016-01-22 07:02:10</td>\n",
       "      <td>2.0</td>\n",
       "      <td>2.0</td>\n",
       "      <td>51.0</td>\n",
       "    </tr>\n",
       "    <tr>\n",
       "      <th>1</th>\n",
       "      <td>2016-01-22 07:22:35</td>\n",
       "      <td>2.0</td>\n",
       "      <td>2.0</td>\n",
       "      <td>51.0</td>\n",
       "    </tr>\n",
       "    <tr>\n",
       "      <th>2</th>\n",
       "      <td>2016-01-22 09:12:48</td>\n",
       "      <td>4.0</td>\n",
       "      <td>1.0</td>\n",
       "      <td>53.0</td>\n",
       "    </tr>\n",
       "    <tr>\n",
       "      <th>3</th>\n",
       "      <td>2016-01-22 09:28:39</td>\n",
       "      <td>4.0</td>\n",
       "      <td>1.0</td>\n",
       "      <td>53.0</td>\n",
       "    </tr>\n",
       "    <tr>\n",
       "      <th>4</th>\n",
       "      <td>2016-01-22 15:12:31</td>\n",
       "      <td>6.0</td>\n",
       "      <td>1.0</td>\n",
       "      <td>64.0</td>\n",
       "    </tr>\n",
       "  </tbody>\n",
       "</table>\n",
       "</div>"
      ],
      "text/plain": [
       "                 time  weather  temperature  pm2.5\n",
       "0 2016-01-22 07:02:10      2.0          2.0   51.0\n",
       "1 2016-01-22 07:22:35      2.0          2.0   51.0\n",
       "2 2016-01-22 09:12:48      4.0          1.0   53.0\n",
       "3 2016-01-22 09:28:39      4.0          1.0   53.0\n",
       "4 2016-01-22 15:12:31      6.0          1.0   64.0"
      ]
     },
     "execution_count": 34,
     "metadata": {},
     "output_type": "execute_result"
    }
   ],
   "source": [
    "weather_test.time = pd.to_datetime(weather_test.time)\n",
    "weather_test.head()"
   ]
  },
  {
   "cell_type": "markdown",
   "metadata": {},
   "source": [
    "### POI Data"
   ]
  },
  {
   "cell_type": "code",
   "execution_count": 35,
   "metadata": {
    "collapsed": false
   },
   "outputs": [],
   "source": [
    "poi_training_path = training_data_path + '/poi_data'\n",
    "file = poi_training_path + '/poi_data'\n",
    "district_hash_list = []\n",
    "facilities_list =[]\n",
    "#Read the data by lines\n",
    "with open(file,'r') as fi:\n",
    "    for line in fi:\n",
    "        facility_dict ={}\n",
    "        items = line.split('\\t')\n",
    "        district_hash_list.append(items[0])\n",
    "        for item in items[1:]:\n",
    "            facility = item.split(':')#Split the types and the number\n",
    "            facility_general_type = facility[0].split('#')[0]#Get the general type            \n",
    "            facility_dict[facility_general_type] = facility_dict.get(facility_general_type, 0) + int(facility[1])\n",
    "        facilities_list.append(facility_dict)"
   ]
  },
  {
   "cell_type": "code",
   "execution_count": 36,
   "metadata": {
    "collapsed": false
   },
   "outputs": [
    {
     "data": {
      "text/html": [
       "<div>\n",
       "<table border=\"1\" class=\"dataframe\">\n",
       "  <thead>\n",
       "    <tr style=\"text-align: right;\">\n",
       "      <th></th>\n",
       "      <th>facility1</th>\n",
       "      <th>facility10</th>\n",
       "      <th>facility11</th>\n",
       "      <th>facility12</th>\n",
       "      <th>facility13</th>\n",
       "      <th>facility14</th>\n",
       "      <th>facility15</th>\n",
       "      <th>facility16</th>\n",
       "      <th>facility17</th>\n",
       "      <th>facility18</th>\n",
       "      <th>...</th>\n",
       "      <th>facility24</th>\n",
       "      <th>facility25</th>\n",
       "      <th>facility3</th>\n",
       "      <th>facility4</th>\n",
       "      <th>facility5</th>\n",
       "      <th>facility6</th>\n",
       "      <th>facility7</th>\n",
       "      <th>facility8</th>\n",
       "      <th>facility9</th>\n",
       "      <th>district_hash</th>\n",
       "    </tr>\n",
       "  </thead>\n",
       "  <tbody>\n",
       "    <tr>\n",
       "      <th>0</th>\n",
       "      <td>28054</td>\n",
       "      <td>0.0</td>\n",
       "      <td>117777.0</td>\n",
       "      <td>0.0</td>\n",
       "      <td>20833</td>\n",
       "      <td>10375.0</td>\n",
       "      <td>29050</td>\n",
       "      <td>45733</td>\n",
       "      <td>40504.0</td>\n",
       "      <td>0.0</td>\n",
       "      <td>...</td>\n",
       "      <td>140851.0</td>\n",
       "      <td>17928.0</td>\n",
       "      <td>3984.0</td>\n",
       "      <td>55361</td>\n",
       "      <td>8715.0</td>\n",
       "      <td>11786.0</td>\n",
       "      <td>6640</td>\n",
       "      <td>22327.0</td>\n",
       "      <td>0.0</td>\n",
       "      <td>74c1c25f4b283fa74a5514307b0d0278</td>\n",
       "    </tr>\n",
       "    <tr>\n",
       "      <th>1</th>\n",
       "      <td>1411</td>\n",
       "      <td>0.0</td>\n",
       "      <td>3652.0</td>\n",
       "      <td>0.0</td>\n",
       "      <td>996</td>\n",
       "      <td>11952.0</td>\n",
       "      <td>1743</td>\n",
       "      <td>5478</td>\n",
       "      <td>249.0</td>\n",
       "      <td>0.0</td>\n",
       "      <td>...</td>\n",
       "      <td>332.0</td>\n",
       "      <td>830.0</td>\n",
       "      <td>2739.0</td>\n",
       "      <td>3154</td>\n",
       "      <td>249.0</td>\n",
       "      <td>83.0</td>\n",
       "      <td>2324</td>\n",
       "      <td>415.0</td>\n",
       "      <td>0.0</td>\n",
       "      <td>08f5b445ec6b29deba62e6fd8b0325a6</td>\n",
       "    </tr>\n",
       "    <tr>\n",
       "      <th>2</th>\n",
       "      <td>2075</td>\n",
       "      <td>0.0</td>\n",
       "      <td>8632.0</td>\n",
       "      <td>0.0</td>\n",
       "      <td>2407</td>\n",
       "      <td>498.0</td>\n",
       "      <td>5893</td>\n",
       "      <td>8632</td>\n",
       "      <td>2490.0</td>\n",
       "      <td>0.0</td>\n",
       "      <td>...</td>\n",
       "      <td>7885.0</td>\n",
       "      <td>3071.0</td>\n",
       "      <td>4731.0</td>\n",
       "      <td>6225</td>\n",
       "      <td>581.0</td>\n",
       "      <td>332.0</td>\n",
       "      <td>2573</td>\n",
       "      <td>1826.0</td>\n",
       "      <td>0.0</td>\n",
       "      <td>4b7f6f4e2bf237b6cc58f57142bea5c0</td>\n",
       "    </tr>\n",
       "    <tr>\n",
       "      <th>3</th>\n",
       "      <td>1743</td>\n",
       "      <td>0.0</td>\n",
       "      <td>11122.0</td>\n",
       "      <td>0.0</td>\n",
       "      <td>1494</td>\n",
       "      <td>498.0</td>\n",
       "      <td>4565</td>\n",
       "      <td>6059</td>\n",
       "      <td>1826.0</td>\n",
       "      <td>0.0</td>\n",
       "      <td>...</td>\n",
       "      <td>2988.0</td>\n",
       "      <td>3652.0</td>\n",
       "      <td>2822.0</td>\n",
       "      <td>5146</td>\n",
       "      <td>581.0</td>\n",
       "      <td>1328.0</td>\n",
       "      <td>1494</td>\n",
       "      <td>2158.0</td>\n",
       "      <td>0.0</td>\n",
       "      <td>a814069db8d32f0fa6e188f41059c6e1</td>\n",
       "    </tr>\n",
       "    <tr>\n",
       "      <th>4</th>\n",
       "      <td>498</td>\n",
       "      <td>0.0</td>\n",
       "      <td>913.0</td>\n",
       "      <td>0.0</td>\n",
       "      <td>747</td>\n",
       "      <td>498.0</td>\n",
       "      <td>2075</td>\n",
       "      <td>4980</td>\n",
       "      <td>166.0</td>\n",
       "      <td>0.0</td>\n",
       "      <td>...</td>\n",
       "      <td>1743.0</td>\n",
       "      <td>1079.0</td>\n",
       "      <td>3569.0</td>\n",
       "      <td>1660</td>\n",
       "      <td>83.0</td>\n",
       "      <td>166.0</td>\n",
       "      <td>2158</td>\n",
       "      <td>830.0</td>\n",
       "      <td>0.0</td>\n",
       "      <td>8316146a6f78cc6d9f113f0390859417</td>\n",
       "    </tr>\n",
       "  </tbody>\n",
       "</table>\n",
       "<p>5 rows × 26 columns</p>\n",
       "</div>"
      ],
      "text/plain": [
       "   facility1  facility10  facility11  facility12  facility13  facility14  \\\n",
       "0      28054         0.0    117777.0         0.0       20833     10375.0   \n",
       "1       1411         0.0      3652.0         0.0         996     11952.0   \n",
       "2       2075         0.0      8632.0         0.0        2407       498.0   \n",
       "3       1743         0.0     11122.0         0.0        1494       498.0   \n",
       "4        498         0.0       913.0         0.0         747       498.0   \n",
       "\n",
       "   facility15  facility16  facility17  facility18  \\\n",
       "0       29050       45733     40504.0         0.0   \n",
       "1        1743        5478       249.0         0.0   \n",
       "2        5893        8632      2490.0         0.0   \n",
       "3        4565        6059      1826.0         0.0   \n",
       "4        2075        4980       166.0         0.0   \n",
       "\n",
       "                 ...                 facility24  facility25  facility3  \\\n",
       "0                ...                   140851.0     17928.0     3984.0   \n",
       "1                ...                      332.0       830.0     2739.0   \n",
       "2                ...                     7885.0      3071.0     4731.0   \n",
       "3                ...                     2988.0      3652.0     2822.0   \n",
       "4                ...                     1743.0      1079.0     3569.0   \n",
       "\n",
       "   facility4  facility5  facility6  facility7  facility8  facility9  \\\n",
       "0      55361     8715.0    11786.0       6640    22327.0        0.0   \n",
       "1       3154      249.0       83.0       2324      415.0        0.0   \n",
       "2       6225      581.0      332.0       2573     1826.0        0.0   \n",
       "3       5146      581.0     1328.0       1494     2158.0        0.0   \n",
       "4       1660       83.0      166.0       2158      830.0        0.0   \n",
       "\n",
       "                      district_hash  \n",
       "0  74c1c25f4b283fa74a5514307b0d0278  \n",
       "1  08f5b445ec6b29deba62e6fd8b0325a6  \n",
       "2  4b7f6f4e2bf237b6cc58f57142bea5c0  \n",
       "3  a814069db8d32f0fa6e188f41059c6e1  \n",
       "4  8316146a6f78cc6d9f113f0390859417  \n",
       "\n",
       "[5 rows x 26 columns]"
      ]
     },
     "execution_count": 36,
     "metadata": {},
     "output_type": "execute_result"
    }
   ],
   "source": [
    "#Create a dataframe including the districts and corresponding facility numbers\n",
    "poi_train = pd.DataFrame(data=facilities_list, index=range(len(facilities_list)))\n",
    "poi_train.columns = 'facility' + poi_train.columns\n",
    "poi_train['district_hash'] = district_hash_list\n",
    "poi_train = poi_train.fillna(0)\n",
    "poi_train.head()"
   ]
  },
  {
   "cell_type": "markdown",
   "metadata": {},
   "source": [
    "## Data Preprocessing\n",
    "### Training Data\n",
    "\n",
    "According to the problem instruction, we need to resample the data by 10 mins and join order data with other features."
   ]
  },
  {
   "cell_type": "code",
   "execution_count": 37,
   "metadata": {
    "collapsed": true
   },
   "outputs": [],
   "source": [
    "#Resample the data set\n",
    "def order_resample(order):\n",
    "    order_joined = pd.merge(order, district_train, left_on='start_district_hash', right_on='district_hash', how = 'left')\n",
    "    del order_joined['start_district_hash']\n",
    "    order_joined = order_joined.set_index('time')\n",
    "    #order_joined_resample = order_joined[['order_id', 'driver_id', 'district_id']]\n",
    "    #print order_joined.shape\n",
    "    order_joined_resample = order_joined.groupby('district_id').resample('10 min').count()\n",
    "    order_price = order_joined.groupby('district_id').price.resample('10 min').sum()\n",
    "    #print order_joined.shape\n",
    "    order_joined_resample = order_joined_resample[['order_id', 'driver_id']]\n",
    "    order_joined_resample['price'] = order_price\n",
    "    order_joined_resample['gap'] = order_joined_resample['order_id'] - order_joined_resample['driver_id']\n",
    "    return order_joined_resample"
   ]
  },
  {
   "cell_type": "code",
   "execution_count": 38,
   "metadata": {
    "collapsed": false
   },
   "outputs": [],
   "source": [
    "order_train_sample = order_resample(order_train)"
   ]
  },
  {
   "cell_type": "code",
   "execution_count": 43,
   "metadata": {
    "collapsed": false
   },
   "outputs": [
    {
     "data": {
      "text/plain": [
       "(199483, 4)"
      ]
     },
     "execution_count": 43,
     "metadata": {},
     "output_type": "execute_result"
    }
   ],
   "source": [
    "order_train_sample.shape"
   ]
  },
  {
   "cell_type": "code",
   "execution_count": 44,
   "metadata": {
    "collapsed": false
   },
   "outputs": [
    {
     "data": {
      "text/plain": [
       "order_id     35992\n",
       "driver_id    35992\n",
       "price            0\n",
       "gap          35992\n",
       "dtype: int64"
      ]
     },
     "execution_count": 44,
     "metadata": {},
     "output_type": "execute_result"
    }
   ],
   "source": [
    "order_train_sample[order_train_sample.order_id==0].count()"
   ]
  },
  {
   "cell_type": "markdown",
   "metadata": {},
   "source": [
    "It seems 35992 time periods did not have any information of orders."
   ]
  },
  {
   "cell_type": "code",
   "execution_count": 45,
   "metadata": {
    "collapsed": false
   },
   "outputs": [],
   "source": [
    "#Split datetime into lables in order to do join work\n",
    "def order_split_datetime(order):\n",
    "    order['time_period'] = order.index.get_level_values(1).map(lambda x: (x.hour*60+x.minute)/10+1)#Time index of a day\n",
    "    order = order.reset_index('district_id')\n",
    "    order['time_label'] = order.index.map(lambda x: str(x.date()))\\\n",
    "    + '-' + order.time_period.map(lambda x:str(x))#time label of a day\n",
    "    order['weekday'] =  order.index.map(lambda x: x.weekday()) \n",
    "    return order"
   ]
  },
  {
   "cell_type": "code",
   "execution_count": 46,
   "metadata": {
    "collapsed": false
   },
   "outputs": [],
   "source": [
    "order_train_sample = order_split_datetime(order_train_sample)"
   ]
  },
  {
   "cell_type": "code",
   "execution_count": 47,
   "metadata": {
    "collapsed": false
   },
   "outputs": [
    {
     "data": {
      "text/html": [
       "<div>\n",
       "<table border=\"1\" class=\"dataframe\">\n",
       "  <thead>\n",
       "    <tr style=\"text-align: right;\">\n",
       "      <th></th>\n",
       "      <th>district_id</th>\n",
       "      <th>order_id</th>\n",
       "      <th>driver_id</th>\n",
       "      <th>price</th>\n",
       "      <th>gap</th>\n",
       "      <th>time_period</th>\n",
       "      <th>time_label</th>\n",
       "      <th>weekday</th>\n",
       "    </tr>\n",
       "    <tr>\n",
       "      <th>time</th>\n",
       "      <th></th>\n",
       "      <th></th>\n",
       "      <th></th>\n",
       "      <th></th>\n",
       "      <th></th>\n",
       "      <th></th>\n",
       "      <th></th>\n",
       "      <th></th>\n",
       "    </tr>\n",
       "  </thead>\n",
       "  <tbody>\n",
       "    <tr>\n",
       "      <th>2016-01-01 00:00:00</th>\n",
       "      <td>1.0</td>\n",
       "      <td>187</td>\n",
       "      <td>178</td>\n",
       "      <td>3562.0</td>\n",
       "      <td>9</td>\n",
       "      <td>1</td>\n",
       "      <td>2016-01-01-1</td>\n",
       "      <td>4</td>\n",
       "    </tr>\n",
       "    <tr>\n",
       "      <th>2016-01-01 00:10:00</th>\n",
       "      <td>1.0</td>\n",
       "      <td>198</td>\n",
       "      <td>191</td>\n",
       "      <td>3113.0</td>\n",
       "      <td>7</td>\n",
       "      <td>2</td>\n",
       "      <td>2016-01-01-2</td>\n",
       "      <td>4</td>\n",
       "    </tr>\n",
       "    <tr>\n",
       "      <th>2016-01-01 00:20:00</th>\n",
       "      <td>1.0</td>\n",
       "      <td>192</td>\n",
       "      <td>182</td>\n",
       "      <td>3268.0</td>\n",
       "      <td>10</td>\n",
       "      <td>3</td>\n",
       "      <td>2016-01-01-3</td>\n",
       "      <td>4</td>\n",
       "    </tr>\n",
       "    <tr>\n",
       "      <th>2016-01-01 00:30:00</th>\n",
       "      <td>1.0</td>\n",
       "      <td>172</td>\n",
       "      <td>167</td>\n",
       "      <td>2789.0</td>\n",
       "      <td>5</td>\n",
       "      <td>4</td>\n",
       "      <td>2016-01-01-4</td>\n",
       "      <td>4</td>\n",
       "    </tr>\n",
       "    <tr>\n",
       "      <th>2016-01-01 00:40:00</th>\n",
       "      <td>1.0</td>\n",
       "      <td>153</td>\n",
       "      <td>152</td>\n",
       "      <td>2616.0</td>\n",
       "      <td>1</td>\n",
       "      <td>5</td>\n",
       "      <td>2016-01-01-5</td>\n",
       "      <td>4</td>\n",
       "    </tr>\n",
       "  </tbody>\n",
       "</table>\n",
       "</div>"
      ],
      "text/plain": [
       "                     district_id  order_id  driver_id   price  gap  \\\n",
       "time                                                                 \n",
       "2016-01-01 00:00:00          1.0       187        178  3562.0    9   \n",
       "2016-01-01 00:10:00          1.0       198        191  3113.0    7   \n",
       "2016-01-01 00:20:00          1.0       192        182  3268.0   10   \n",
       "2016-01-01 00:30:00          1.0       172        167  2789.0    5   \n",
       "2016-01-01 00:40:00          1.0       153        152  2616.0    1   \n",
       "\n",
       "                     time_period    time_label  weekday  \n",
       "time                                                     \n",
       "2016-01-01 00:00:00            1  2016-01-01-1        4  \n",
       "2016-01-01 00:10:00            2  2016-01-01-2        4  \n",
       "2016-01-01 00:20:00            3  2016-01-01-3        4  \n",
       "2016-01-01 00:30:00            4  2016-01-01-4        4  \n",
       "2016-01-01 00:40:00            5  2016-01-01-5        4  "
      ]
     },
     "execution_count": 47,
     "metadata": {},
     "output_type": "execute_result"
    }
   ],
   "source": [
    "order_train_sample.head()"
   ]
  },
  {
   "cell_type": "code",
   "execution_count": 48,
   "metadata": {
    "collapsed": false
   },
   "outputs": [
    {
     "name": "stdout",
     "output_type": "stream",
     "text": [
      "<class 'pandas.core.frame.DataFrame'>\n",
      "DatetimeIndex: 199483 entries, 2016-01-01 00:00:00 to 2016-01-21 23:50:00\n",
      "Data columns (total 8 columns):\n",
      "district_id    199483 non-null float64\n",
      "order_id       199483 non-null int64\n",
      "driver_id      199483 non-null int64\n",
      "price          163491 non-null float64\n",
      "gap            199483 non-null int64\n",
      "time_period    199483 non-null int32\n",
      "time_label     199483 non-null object\n",
      "weekday        199483 non-null int64\n",
      "dtypes: float64(2), int32(1), int64(4), object(1)\n",
      "memory usage: 12.9+ MB\n"
     ]
    }
   ],
   "source": [
    "order_train_sample.info()"
   ]
  },
  {
   "cell_type": "code",
   "execution_count": 49,
   "metadata": {
    "collapsed": false
   },
   "outputs": [],
   "source": [
    "order_train_sample_selected = order_train_sample[['district_id','time_label', 'time_period', 'weekday', 'gap', 'price', 'order_id']]"
   ]
  },
  {
   "cell_type": "markdown",
   "metadata": {},
   "source": [
    "Transform poi_data."
   ]
  },
  {
   "cell_type": "code",
   "execution_count": 50,
   "metadata": {
    "collapsed": false
   },
   "outputs": [],
   "source": [
    "poi_train = pd.merge(poi_train, district_train, on='district_hash', how = 'left')"
   ]
  },
  {
   "cell_type": "code",
   "execution_count": 51,
   "metadata": {
    "collapsed": false
   },
   "outputs": [],
   "source": [
    "del poi_train['district_hash']"
   ]
  },
  {
   "cell_type": "code",
   "execution_count": 52,
   "metadata": {
    "collapsed": false
   },
   "outputs": [
    {
     "data": {
      "text/html": [
       "<div>\n",
       "<table border=\"1\" class=\"dataframe\">\n",
       "  <thead>\n",
       "    <tr style=\"text-align: right;\">\n",
       "      <th></th>\n",
       "      <th>facility1</th>\n",
       "      <th>facility10</th>\n",
       "      <th>facility11</th>\n",
       "      <th>facility12</th>\n",
       "      <th>facility13</th>\n",
       "      <th>facility14</th>\n",
       "      <th>facility15</th>\n",
       "      <th>facility16</th>\n",
       "      <th>facility17</th>\n",
       "      <th>facility18</th>\n",
       "      <th>...</th>\n",
       "      <th>facility24</th>\n",
       "      <th>facility25</th>\n",
       "      <th>facility3</th>\n",
       "      <th>facility4</th>\n",
       "      <th>facility5</th>\n",
       "      <th>facility6</th>\n",
       "      <th>facility7</th>\n",
       "      <th>facility8</th>\n",
       "      <th>facility9</th>\n",
       "      <th>district_id</th>\n",
       "    </tr>\n",
       "  </thead>\n",
       "  <tbody>\n",
       "    <tr>\n",
       "      <th>0</th>\n",
       "      <td>28054</td>\n",
       "      <td>0.0</td>\n",
       "      <td>117777.0</td>\n",
       "      <td>0.0</td>\n",
       "      <td>20833</td>\n",
       "      <td>10375.0</td>\n",
       "      <td>29050</td>\n",
       "      <td>45733</td>\n",
       "      <td>40504.0</td>\n",
       "      <td>0.0</td>\n",
       "      <td>...</td>\n",
       "      <td>140851.0</td>\n",
       "      <td>17928.0</td>\n",
       "      <td>3984.0</td>\n",
       "      <td>55361</td>\n",
       "      <td>8715.0</td>\n",
       "      <td>11786.0</td>\n",
       "      <td>6640</td>\n",
       "      <td>22327.0</td>\n",
       "      <td>0.0</td>\n",
       "      <td>12.0</td>\n",
       "    </tr>\n",
       "    <tr>\n",
       "      <th>1</th>\n",
       "      <td>1411</td>\n",
       "      <td>0.0</td>\n",
       "      <td>3652.0</td>\n",
       "      <td>0.0</td>\n",
       "      <td>996</td>\n",
       "      <td>11952.0</td>\n",
       "      <td>1743</td>\n",
       "      <td>5478</td>\n",
       "      <td>249.0</td>\n",
       "      <td>0.0</td>\n",
       "      <td>...</td>\n",
       "      <td>332.0</td>\n",
       "      <td>830.0</td>\n",
       "      <td>2739.0</td>\n",
       "      <td>3154</td>\n",
       "      <td>249.0</td>\n",
       "      <td>83.0</td>\n",
       "      <td>2324</td>\n",
       "      <td>415.0</td>\n",
       "      <td>0.0</td>\n",
       "      <td>43.0</td>\n",
       "    </tr>\n",
       "    <tr>\n",
       "      <th>2</th>\n",
       "      <td>2075</td>\n",
       "      <td>0.0</td>\n",
       "      <td>8632.0</td>\n",
       "      <td>0.0</td>\n",
       "      <td>2407</td>\n",
       "      <td>498.0</td>\n",
       "      <td>5893</td>\n",
       "      <td>8632</td>\n",
       "      <td>2490.0</td>\n",
       "      <td>0.0</td>\n",
       "      <td>...</td>\n",
       "      <td>7885.0</td>\n",
       "      <td>3071.0</td>\n",
       "      <td>4731.0</td>\n",
       "      <td>6225</td>\n",
       "      <td>581.0</td>\n",
       "      <td>332.0</td>\n",
       "      <td>2573</td>\n",
       "      <td>1826.0</td>\n",
       "      <td>0.0</td>\n",
       "      <td>13.0</td>\n",
       "    </tr>\n",
       "    <tr>\n",
       "      <th>3</th>\n",
       "      <td>1743</td>\n",
       "      <td>0.0</td>\n",
       "      <td>11122.0</td>\n",
       "      <td>0.0</td>\n",
       "      <td>1494</td>\n",
       "      <td>498.0</td>\n",
       "      <td>4565</td>\n",
       "      <td>6059</td>\n",
       "      <td>1826.0</td>\n",
       "      <td>0.0</td>\n",
       "      <td>...</td>\n",
       "      <td>2988.0</td>\n",
       "      <td>3652.0</td>\n",
       "      <td>2822.0</td>\n",
       "      <td>5146</td>\n",
       "      <td>581.0</td>\n",
       "      <td>1328.0</td>\n",
       "      <td>1494</td>\n",
       "      <td>2158.0</td>\n",
       "      <td>0.0</td>\n",
       "      <td>17.0</td>\n",
       "    </tr>\n",
       "    <tr>\n",
       "      <th>4</th>\n",
       "      <td>498</td>\n",
       "      <td>0.0</td>\n",
       "      <td>913.0</td>\n",
       "      <td>0.0</td>\n",
       "      <td>747</td>\n",
       "      <td>498.0</td>\n",
       "      <td>2075</td>\n",
       "      <td>4980</td>\n",
       "      <td>166.0</td>\n",
       "      <td>0.0</td>\n",
       "      <td>...</td>\n",
       "      <td>1743.0</td>\n",
       "      <td>1079.0</td>\n",
       "      <td>3569.0</td>\n",
       "      <td>1660</td>\n",
       "      <td>83.0</td>\n",
       "      <td>166.0</td>\n",
       "      <td>2158</td>\n",
       "      <td>830.0</td>\n",
       "      <td>0.0</td>\n",
       "      <td>44.0</td>\n",
       "    </tr>\n",
       "  </tbody>\n",
       "</table>\n",
       "<p>5 rows × 26 columns</p>\n",
       "</div>"
      ],
      "text/plain": [
       "   facility1  facility10  facility11  facility12  facility13  facility14  \\\n",
       "0      28054         0.0    117777.0         0.0       20833     10375.0   \n",
       "1       1411         0.0      3652.0         0.0         996     11952.0   \n",
       "2       2075         0.0      8632.0         0.0        2407       498.0   \n",
       "3       1743         0.0     11122.0         0.0        1494       498.0   \n",
       "4        498         0.0       913.0         0.0         747       498.0   \n",
       "\n",
       "   facility15  facility16  facility17  facility18     ...       facility24  \\\n",
       "0       29050       45733     40504.0         0.0     ...         140851.0   \n",
       "1        1743        5478       249.0         0.0     ...            332.0   \n",
       "2        5893        8632      2490.0         0.0     ...           7885.0   \n",
       "3        4565        6059      1826.0         0.0     ...           2988.0   \n",
       "4        2075        4980       166.0         0.0     ...           1743.0   \n",
       "\n",
       "   facility25  facility3  facility4  facility5  facility6  facility7  \\\n",
       "0     17928.0     3984.0      55361     8715.0    11786.0       6640   \n",
       "1       830.0     2739.0       3154      249.0       83.0       2324   \n",
       "2      3071.0     4731.0       6225      581.0      332.0       2573   \n",
       "3      3652.0     2822.0       5146      581.0     1328.0       1494   \n",
       "4      1079.0     3569.0       1660       83.0      166.0       2158   \n",
       "\n",
       "   facility8  facility9  district_id  \n",
       "0    22327.0        0.0         12.0  \n",
       "1      415.0        0.0         43.0  \n",
       "2     1826.0        0.0         13.0  \n",
       "3     2158.0        0.0         17.0  \n",
       "4      830.0        0.0         44.0  \n",
       "\n",
       "[5 rows x 26 columns]"
      ]
     },
     "execution_count": 52,
     "metadata": {},
     "output_type": "execute_result"
    }
   ],
   "source": [
    "poi_train.head()"
   ]
  },
  {
   "cell_type": "markdown",
   "metadata": {},
   "source": [
    "Transform traffic and weather data."
   ]
  },
  {
   "cell_type": "code",
   "execution_count": 53,
   "metadata": {
    "collapsed": false
   },
   "outputs": [],
   "source": [
    "#traffic jam mean for each period\n",
    "traffic_train_mean = traffic_train.set_index('time').groupby('district_id').resample('10 min').mean()\n",
    "del traffic_train_mean['district_id']"
   ]
  },
  {
   "cell_type": "code",
   "execution_count": 54,
   "metadata": {
    "collapsed": false
   },
   "outputs": [],
   "source": [
    "weather_train_mean = weather_train.set_index('time').resample('10 min').median()\n",
    "weather_train_mean = weather_train_mean.reset_index()"
   ]
  },
  {
   "cell_type": "code",
   "execution_count": 55,
   "metadata": {
    "collapsed": false
   },
   "outputs": [
    {
     "data": {
      "text/html": [
       "<div>\n",
       "<table border=\"1\" class=\"dataframe\">\n",
       "  <thead>\n",
       "    <tr style=\"text-align: right;\">\n",
       "      <th></th>\n",
       "      <th>time</th>\n",
       "      <th>weather</th>\n",
       "      <th>temperature</th>\n",
       "      <th>pm2.5</th>\n",
       "    </tr>\n",
       "  </thead>\n",
       "  <tbody>\n",
       "    <tr>\n",
       "      <th>0</th>\n",
       "      <td>2016-01-01 00:00:00</td>\n",
       "      <td>1.0</td>\n",
       "      <td>3.5</td>\n",
       "      <td>177.0</td>\n",
       "    </tr>\n",
       "    <tr>\n",
       "      <th>1</th>\n",
       "      <td>2016-01-01 00:10:00</td>\n",
       "      <td>1.0</td>\n",
       "      <td>3.0</td>\n",
       "      <td>177.0</td>\n",
       "    </tr>\n",
       "  </tbody>\n",
       "</table>\n",
       "</div>"
      ],
      "text/plain": [
       "                 time  weather  temperature  pm2.5\n",
       "0 2016-01-01 00:00:00      1.0          3.5  177.0\n",
       "1 2016-01-01 00:10:00      1.0          3.0  177.0"
      ]
     },
     "execution_count": 55,
     "metadata": {},
     "output_type": "execute_result"
    }
   ],
   "source": [
    "weather_train_mean.head(2)"
   ]
  },
  {
   "cell_type": "markdown",
   "metadata": {},
   "source": [
    "#### Combine Data"
   ]
  },
  {
   "cell_type": "code",
   "execution_count": 56,
   "metadata": {
    "collapsed": false
   },
   "outputs": [],
   "source": [
    "order_train_sample_selected = order_train_sample_selected.reset_index()\n",
    "traffic_train_mean = traffic_train_mean.reset_index()"
   ]
  },
  {
   "cell_type": "code",
   "execution_count": 57,
   "metadata": {
    "collapsed": false
   },
   "outputs": [
    {
     "name": "stdout",
     "output_type": "stream",
     "text": [
      "<class 'pandas.core.frame.DataFrame'>\n",
      "Int64Index: 199483 entries, 0 to 199482\n",
      "Data columns (total 12 columns):\n",
      "time           199483 non-null datetime64[ns]\n",
      "district_id    199483 non-null float64\n",
      "time_label     199483 non-null object\n",
      "time_period    199483 non-null int32\n",
      "weekday        199483 non-null int64\n",
      "gap            199483 non-null int64\n",
      "price          163491 non-null float64\n",
      "order_id       199483 non-null int64\n",
      "tj_level1      193463 non-null float64\n",
      "tj_level2      193463 non-null float64\n",
      "tj_level3      193463 non-null float64\n",
      "tj_level4      193463 non-null float64\n",
      "dtypes: datetime64[ns](1), float64(6), int32(1), int64(3), object(1)\n",
      "memory usage: 19.0+ MB\n"
     ]
    }
   ],
   "source": [
    "#Combine traffic\n",
    "order_train_sample_selected = pd.merge(order_train_sample_selected, traffic_train_mean, on=['district_id', 'time'], how='left')\n",
    "order_train_sample_selected.info()"
   ]
  },
  {
   "cell_type": "code",
   "execution_count": 58,
   "metadata": {
    "collapsed": true
   },
   "outputs": [],
   "source": [
    "#Combine weather\n",
    "order_train_sample_selected = pd.merge(order_train_sample_selected, weather_train_mean, on='time', how='left')"
   ]
  },
  {
   "cell_type": "code",
   "execution_count": 59,
   "metadata": {
    "collapsed": false
   },
   "outputs": [],
   "source": [
    "#Combine facilities\n",
    "order_train_sample_selected = pd.merge(order_train_sample_selected, poi_train, on='district_id', how='left')"
   ]
  },
  {
   "cell_type": "markdown",
   "metadata": {},
   "source": [
    "#### Testing Data"
   ]
  },
  {
   "cell_type": "code",
   "execution_count": 60,
   "metadata": {
    "collapsed": false
   },
   "outputs": [
    {
     "data": {
      "text/html": [
       "<div>\n",
       "<table border=\"1\" class=\"dataframe\">\n",
       "  <thead>\n",
       "    <tr style=\"text-align: right;\">\n",
       "      <th></th>\n",
       "      <th></th>\n",
       "      <th>order_id</th>\n",
       "      <th>driver_id</th>\n",
       "      <th>price</th>\n",
       "      <th>gap</th>\n",
       "    </tr>\n",
       "    <tr>\n",
       "      <th>district_id</th>\n",
       "      <th>time</th>\n",
       "      <th></th>\n",
       "      <th></th>\n",
       "      <th></th>\n",
       "      <th></th>\n",
       "    </tr>\n",
       "  </thead>\n",
       "  <tbody>\n",
       "    <tr>\n",
       "      <th rowspan=\"5\" valign=\"top\">1.0</th>\n",
       "      <th>2016-01-22 07:00:00</th>\n",
       "      <td>74</td>\n",
       "      <td>70</td>\n",
       "      <td>1221.1</td>\n",
       "      <td>4</td>\n",
       "    </tr>\n",
       "    <tr>\n",
       "      <th>2016-01-22 07:10:00</th>\n",
       "      <td>128</td>\n",
       "      <td>127</td>\n",
       "      <td>1552.0</td>\n",
       "      <td>1</td>\n",
       "    </tr>\n",
       "    <tr>\n",
       "      <th>2016-01-22 07:20:00</th>\n",
       "      <td>175</td>\n",
       "      <td>170</td>\n",
       "      <td>2249.3</td>\n",
       "      <td>5</td>\n",
       "    </tr>\n",
       "    <tr>\n",
       "      <th>2016-01-22 07:30:00</th>\n",
       "      <td>0</td>\n",
       "      <td>0</td>\n",
       "      <td>NaN</td>\n",
       "      <td>0</td>\n",
       "    </tr>\n",
       "    <tr>\n",
       "      <th>2016-01-22 07:40:00</th>\n",
       "      <td>0</td>\n",
       "      <td>0</td>\n",
       "      <td>NaN</td>\n",
       "      <td>0</td>\n",
       "    </tr>\n",
       "  </tbody>\n",
       "</table>\n",
       "</div>"
      ],
      "text/plain": [
       "                                 order_id  driver_id   price  gap\n",
       "district_id time                                                 \n",
       "1.0         2016-01-22 07:00:00        74         70  1221.1    4\n",
       "            2016-01-22 07:10:00       128        127  1552.0    1\n",
       "            2016-01-22 07:20:00       175        170  2249.3    5\n",
       "            2016-01-22 07:30:00         0          0     NaN    0\n",
       "            2016-01-22 07:40:00         0          0     NaN    0"
      ]
     },
     "execution_count": 60,
     "metadata": {},
     "output_type": "execute_result"
    }
   ],
   "source": [
    "order_test_sample = order_resample(order_test)\n",
    "order_test_sample.head()"
   ]
  },
  {
   "cell_type": "code",
   "execution_count": 61,
   "metadata": {
    "collapsed": false
   },
   "outputs": [
    {
     "data": {
      "text/html": [
       "<div>\n",
       "<table border=\"1\" class=\"dataframe\">\n",
       "  <thead>\n",
       "    <tr style=\"text-align: right;\">\n",
       "      <th></th>\n",
       "      <th>district_id</th>\n",
       "      <th>order_id</th>\n",
       "      <th>driver_id</th>\n",
       "      <th>price</th>\n",
       "      <th>gap</th>\n",
       "      <th>time_period</th>\n",
       "      <th>time_label</th>\n",
       "      <th>weekday</th>\n",
       "    </tr>\n",
       "    <tr>\n",
       "      <th>time</th>\n",
       "      <th></th>\n",
       "      <th></th>\n",
       "      <th></th>\n",
       "      <th></th>\n",
       "      <th></th>\n",
       "      <th></th>\n",
       "      <th></th>\n",
       "      <th></th>\n",
       "    </tr>\n",
       "  </thead>\n",
       "  <tbody>\n",
       "    <tr>\n",
       "      <th>2016-01-22 07:00:00</th>\n",
       "      <td>1.0</td>\n",
       "      <td>74</td>\n",
       "      <td>70</td>\n",
       "      <td>1221.1</td>\n",
       "      <td>4</td>\n",
       "      <td>43</td>\n",
       "      <td>2016-01-22-43</td>\n",
       "      <td>4</td>\n",
       "    </tr>\n",
       "    <tr>\n",
       "      <th>2016-01-22 07:10:00</th>\n",
       "      <td>1.0</td>\n",
       "      <td>128</td>\n",
       "      <td>127</td>\n",
       "      <td>1552.0</td>\n",
       "      <td>1</td>\n",
       "      <td>44</td>\n",
       "      <td>2016-01-22-44</td>\n",
       "      <td>4</td>\n",
       "    </tr>\n",
       "    <tr>\n",
       "      <th>2016-01-22 07:20:00</th>\n",
       "      <td>1.0</td>\n",
       "      <td>175</td>\n",
       "      <td>170</td>\n",
       "      <td>2249.3</td>\n",
       "      <td>5</td>\n",
       "      <td>45</td>\n",
       "      <td>2016-01-22-45</td>\n",
       "      <td>4</td>\n",
       "    </tr>\n",
       "    <tr>\n",
       "      <th>2016-01-22 07:30:00</th>\n",
       "      <td>1.0</td>\n",
       "      <td>0</td>\n",
       "      <td>0</td>\n",
       "      <td>NaN</td>\n",
       "      <td>0</td>\n",
       "      <td>46</td>\n",
       "      <td>2016-01-22-46</td>\n",
       "      <td>4</td>\n",
       "    </tr>\n",
       "    <tr>\n",
       "      <th>2016-01-22 07:40:00</th>\n",
       "      <td>1.0</td>\n",
       "      <td>0</td>\n",
       "      <td>0</td>\n",
       "      <td>NaN</td>\n",
       "      <td>0</td>\n",
       "      <td>47</td>\n",
       "      <td>2016-01-22-47</td>\n",
       "      <td>4</td>\n",
       "    </tr>\n",
       "  </tbody>\n",
       "</table>\n",
       "</div>"
      ],
      "text/plain": [
       "                     district_id  order_id  driver_id   price  gap  \\\n",
       "time                                                                 \n",
       "2016-01-22 07:00:00          1.0        74         70  1221.1    4   \n",
       "2016-01-22 07:10:00          1.0       128        127  1552.0    1   \n",
       "2016-01-22 07:20:00          1.0       175        170  2249.3    5   \n",
       "2016-01-22 07:30:00          1.0         0          0     NaN    0   \n",
       "2016-01-22 07:40:00          1.0         0          0     NaN    0   \n",
       "\n",
       "                     time_period     time_label  weekday  \n",
       "time                                                      \n",
       "2016-01-22 07:00:00           43  2016-01-22-43        4  \n",
       "2016-01-22 07:10:00           44  2016-01-22-44        4  \n",
       "2016-01-22 07:20:00           45  2016-01-22-45        4  \n",
       "2016-01-22 07:30:00           46  2016-01-22-46        4  \n",
       "2016-01-22 07:40:00           47  2016-01-22-47        4  "
      ]
     },
     "execution_count": 61,
     "metadata": {},
     "output_type": "execute_result"
    }
   ],
   "source": [
    "#order_test_sample = order_test_sample.reset_index('district_id')\n",
    "order_test_sample = order_split_datetime(order_test_sample)\n",
    "order_test_sample.head()"
   ]
  },
  {
   "cell_type": "code",
   "execution_count": 62,
   "metadata": {
    "collapsed": false,
    "scrolled": true
   },
   "outputs": [],
   "source": [
    "#Traffic jam mean for each period\n",
    "traffic_test_mean = traffic_test.set_index('time').groupby('district_id').resample('10 min').mean()\n",
    "traffic_test_mean = traffic_test_mean.drop('district_id', axis=1).reset_index()"
   ]
  },
  {
   "cell_type": "code",
   "execution_count": 63,
   "metadata": {
    "collapsed": true
   },
   "outputs": [],
   "source": [
    "#Weather\n",
    "weather_test_mean = weather_test.set_index('time').resample('10 min').median()\n",
    "weather_test_mean = weather_test_mean.reset_index()"
   ]
  },
  {
   "cell_type": "code",
   "execution_count": 64,
   "metadata": {
    "collapsed": false
   },
   "outputs": [
    {
     "data": {
      "text/html": [
       "<div>\n",
       "<table border=\"1\" class=\"dataframe\">\n",
       "  <thead>\n",
       "    <tr style=\"text-align: right;\">\n",
       "      <th></th>\n",
       "      <th>time</th>\n",
       "      <th>district_id</th>\n",
       "      <th>order_id</th>\n",
       "      <th>driver_id</th>\n",
       "      <th>price</th>\n",
       "      <th>gap</th>\n",
       "      <th>time_period</th>\n",
       "      <th>time_label</th>\n",
       "      <th>weekday</th>\n",
       "      <th>tj_level1</th>\n",
       "      <th>tj_level2</th>\n",
       "      <th>tj_level3</th>\n",
       "      <th>tj_level4</th>\n",
       "    </tr>\n",
       "  </thead>\n",
       "  <tbody>\n",
       "    <tr>\n",
       "      <th>0</th>\n",
       "      <td>2016-01-22 07:00:00</td>\n",
       "      <td>1.0</td>\n",
       "      <td>74</td>\n",
       "      <td>70</td>\n",
       "      <td>1221.1</td>\n",
       "      <td>4</td>\n",
       "      <td>43</td>\n",
       "      <td>2016-01-22-43</td>\n",
       "      <td>4</td>\n",
       "      <td>1392.0</td>\n",
       "      <td>204.0</td>\n",
       "      <td>86.0</td>\n",
       "      <td>45.0</td>\n",
       "    </tr>\n",
       "    <tr>\n",
       "      <th>1</th>\n",
       "      <td>2016-01-22 07:10:00</td>\n",
       "      <td>1.0</td>\n",
       "      <td>128</td>\n",
       "      <td>127</td>\n",
       "      <td>1552.0</td>\n",
       "      <td>1</td>\n",
       "      <td>44</td>\n",
       "      <td>2016-01-22-44</td>\n",
       "      <td>4</td>\n",
       "      <td>1454.0</td>\n",
       "      <td>269.0</td>\n",
       "      <td>102.0</td>\n",
       "      <td>73.0</td>\n",
       "    </tr>\n",
       "    <tr>\n",
       "      <th>2</th>\n",
       "      <td>2016-01-22 07:20:00</td>\n",
       "      <td>1.0</td>\n",
       "      <td>175</td>\n",
       "      <td>170</td>\n",
       "      <td>2249.3</td>\n",
       "      <td>5</td>\n",
       "      <td>45</td>\n",
       "      <td>2016-01-22-45</td>\n",
       "      <td>4</td>\n",
       "      <td>1537.0</td>\n",
       "      <td>304.0</td>\n",
       "      <td>118.0</td>\n",
       "      <td>84.0</td>\n",
       "    </tr>\n",
       "    <tr>\n",
       "      <th>3</th>\n",
       "      <td>2016-01-22 07:30:00</td>\n",
       "      <td>1.0</td>\n",
       "      <td>0</td>\n",
       "      <td>0</td>\n",
       "      <td>NaN</td>\n",
       "      <td>0</td>\n",
       "      <td>46</td>\n",
       "      <td>2016-01-22-46</td>\n",
       "      <td>4</td>\n",
       "      <td>NaN</td>\n",
       "      <td>NaN</td>\n",
       "      <td>NaN</td>\n",
       "      <td>NaN</td>\n",
       "    </tr>\n",
       "    <tr>\n",
       "      <th>4</th>\n",
       "      <td>2016-01-22 07:40:00</td>\n",
       "      <td>1.0</td>\n",
       "      <td>0</td>\n",
       "      <td>0</td>\n",
       "      <td>NaN</td>\n",
       "      <td>0</td>\n",
       "      <td>47</td>\n",
       "      <td>2016-01-22-47</td>\n",
       "      <td>4</td>\n",
       "      <td>NaN</td>\n",
       "      <td>NaN</td>\n",
       "      <td>NaN</td>\n",
       "      <td>NaN</td>\n",
       "    </tr>\n",
       "  </tbody>\n",
       "</table>\n",
       "</div>"
      ],
      "text/plain": [
       "                 time  district_id  order_id  driver_id   price  gap  \\\n",
       "0 2016-01-22 07:00:00          1.0        74         70  1221.1    4   \n",
       "1 2016-01-22 07:10:00          1.0       128        127  1552.0    1   \n",
       "2 2016-01-22 07:20:00          1.0       175        170  2249.3    5   \n",
       "3 2016-01-22 07:30:00          1.0         0          0     NaN    0   \n",
       "4 2016-01-22 07:40:00          1.0         0          0     NaN    0   \n",
       "\n",
       "   time_period     time_label  weekday  tj_level1  tj_level2  tj_level3  \\\n",
       "0           43  2016-01-22-43        4     1392.0      204.0       86.0   \n",
       "1           44  2016-01-22-44        4     1454.0      269.0      102.0   \n",
       "2           45  2016-01-22-45        4     1537.0      304.0      118.0   \n",
       "3           46  2016-01-22-46        4        NaN        NaN        NaN   \n",
       "4           47  2016-01-22-47        4        NaN        NaN        NaN   \n",
       "\n",
       "   tj_level4  \n",
       "0       45.0  \n",
       "1       73.0  \n",
       "2       84.0  \n",
       "3        NaN  \n",
       "4        NaN  "
      ]
     },
     "execution_count": 64,
     "metadata": {},
     "output_type": "execute_result"
    }
   ],
   "source": [
    "#Join other feature\n",
    "order_test_sample = pd.merge(order_test_sample.reset_index(),traffic_test_mean, on=['district_id', 'time'], how='left' )\n",
    "order_test_sample.head()"
   ]
  },
  {
   "cell_type": "code",
   "execution_count": 65,
   "metadata": {
    "collapsed": false
   },
   "outputs": [],
   "source": [
    "order_test_sample = order_test_sample.drop(['driver_id'], axis=1)"
   ]
  },
  {
   "cell_type": "code",
   "execution_count": 66,
   "metadata": {
    "collapsed": true
   },
   "outputs": [],
   "source": [
    "order_test_sample = pd.merge(order_test_sample, weather_test_mean, on='time', how='left')"
   ]
  },
  {
   "cell_type": "code",
   "execution_count": 67,
   "metadata": {
    "collapsed": false
   },
   "outputs": [],
   "source": [
    "order_test_sample = pd.merge(order_test_sample, poi_train, on='district_id', how='left')"
   ]
  },
  {
   "cell_type": "code",
   "execution_count": 68,
   "metadata": {
    "collapsed": false
   },
   "outputs": [],
   "source": [
    "order_test_sample.to_csv('order_test_sample.csv')"
   ]
  },
  {
   "cell_type": "code",
   "execution_count": 69,
   "metadata": {
    "collapsed": true
   },
   "outputs": [],
   "source": [
    "order_train_sample_selected.to_csv('order_train_sample.csv')"
   ]
  },
  {
   "cell_type": "markdown",
   "metadata": {},
   "source": [
    "## Load data from local path"
   ]
  },
  {
   "cell_type": "markdown",
   "metadata": {},
   "source": [
    "In order to save the memory, we read the data set directly here."
   ]
  },
  {
   "cell_type": "code",
   "execution_count": 3,
   "metadata": {
    "collapsed": false
   },
   "outputs": [],
   "source": [
    "order_test_sample = pd.read_csv('order_test_sample.csv')\n",
    "order_train_sample_selected = pd.read_csv('order_train_sample.csv')"
   ]
  },
  {
   "cell_type": "code",
   "execution_count": 4,
   "metadata": {
    "collapsed": false
   },
   "outputs": [
    {
     "name": "stdout",
     "output_type": "stream",
     "text": [
      "(199483, 41)\n",
      "(82466, 41)\n"
     ]
    }
   ],
   "source": [
    "print order_train_sample_selected.shape\n",
    "print order_test_sample.shape"
   ]
  },
  {
   "cell_type": "markdown",
   "metadata": {},
   "source": [
    "Transform the datatime format."
   ]
  },
  {
   "cell_type": "code",
   "execution_count": 5,
   "metadata": {
    "collapsed": true
   },
   "outputs": [],
   "source": [
    "order_train_sample_selected.time = pd.to_datetime(order_train_sample_selected.time)\n",
    "order_test_sample.time = pd.to_datetime(order_test_sample.time)"
   ]
  },
  {
   "cell_type": "markdown",
   "metadata": {},
   "source": [
    "Preprocess testing data by adding features corresponding to training one."
   ]
  },
  {
   "cell_type": "code",
   "execution_count": 6,
   "metadata": {
    "collapsed": false
   },
   "outputs": [
    {
     "data": {
      "text/plain": [
       "(1806, 3)"
      ]
     },
     "execution_count": 6,
     "metadata": {},
     "output_type": "execute_result"
    }
   ],
   "source": [
    "test = pd.read_csv('test.csv', names=['district_id', 'time_label', 'gap'])\n",
    "test.shape"
   ]
  },
  {
   "cell_type": "code",
   "execution_count": 7,
   "metadata": {
    "collapsed": false
   },
   "outputs": [
    {
     "data": {
      "text/html": [
       "<div>\n",
       "<table border=\"1\" class=\"dataframe\">\n",
       "  <thead>\n",
       "    <tr style=\"text-align: right;\">\n",
       "      <th></th>\n",
       "      <th>district_id</th>\n",
       "      <th>time_label</th>\n",
       "      <th>gap</th>\n",
       "      <th>time_period</th>\n",
       "      <th>time</th>\n",
       "      <th>weekday</th>\n",
       "    </tr>\n",
       "  </thead>\n",
       "  <tbody>\n",
       "    <tr>\n",
       "      <th>0</th>\n",
       "      <td>24</td>\n",
       "      <td>2016-01-22-46</td>\n",
       "      <td>132</td>\n",
       "      <td>46</td>\n",
       "      <td>2016-01-22 07:30:00</td>\n",
       "      <td>4</td>\n",
       "    </tr>\n",
       "    <tr>\n",
       "      <th>1</th>\n",
       "      <td>21</td>\n",
       "      <td>2016-01-22-46</td>\n",
       "      <td>5</td>\n",
       "      <td>46</td>\n",
       "      <td>2016-01-22 07:30:00</td>\n",
       "      <td>4</td>\n",
       "    </tr>\n",
       "    <tr>\n",
       "      <th>2</th>\n",
       "      <td>60</td>\n",
       "      <td>2016-01-22-46</td>\n",
       "      <td>4</td>\n",
       "      <td>46</td>\n",
       "      <td>2016-01-22 07:30:00</td>\n",
       "      <td>4</td>\n",
       "    </tr>\n",
       "    <tr>\n",
       "      <th>3</th>\n",
       "      <td>50</td>\n",
       "      <td>2016-01-22-46</td>\n",
       "      <td>1</td>\n",
       "      <td>46</td>\n",
       "      <td>2016-01-22 07:30:00</td>\n",
       "      <td>4</td>\n",
       "    </tr>\n",
       "    <tr>\n",
       "      <th>4</th>\n",
       "      <td>9</td>\n",
       "      <td>2016-01-22-46</td>\n",
       "      <td>1</td>\n",
       "      <td>46</td>\n",
       "      <td>2016-01-22 07:30:00</td>\n",
       "      <td>4</td>\n",
       "    </tr>\n",
       "  </tbody>\n",
       "</table>\n",
       "</div>"
      ],
      "text/plain": [
       "   district_id     time_label  gap  time_period                time  weekday\n",
       "0           24  2016-01-22-46  132           46 2016-01-22 07:30:00        4\n",
       "1           21  2016-01-22-46    5           46 2016-01-22 07:30:00        4\n",
       "2           60  2016-01-22-46    4           46 2016-01-22 07:30:00        4\n",
       "3           50  2016-01-22-46    1           46 2016-01-22 07:30:00        4\n",
       "4            9  2016-01-22-46    1           46 2016-01-22 07:30:00        4"
      ]
     },
     "execution_count": 7,
     "metadata": {},
     "output_type": "execute_result"
    }
   ],
   "source": [
    "from pandas.tseries.offsets import Minute\n",
    "test['time_period'] = test.time_label.map(lambda x: x.split('-')[3])\n",
    "test['time'] = test.apply(lambda x: x.time_label.replace('-'+x.time_period,''), axis=1)\n",
    "test.time = pd.to_datetime(test.time)\n",
    "test['weekday'] = test.time.map(lambda x: x.weekday())\n",
    "test.time_period = test.time_period.map(lambda x: int(x))\n",
    "test.time = test.apply(lambda x: x.time + Minute(x.time_period*10-10), axis=1)\n",
    "test.head()"
   ]
  },
  {
   "cell_type": "code",
   "execution_count": 8,
   "metadata": {
    "collapsed": false
   },
   "outputs": [],
   "source": [
    "#Order is very important\n",
    "test = test.sort_values(['district_id', 'time'])\n",
    "test = test.reset_index().drop('index', axis=1)"
   ]
  },
  {
   "cell_type": "markdown",
   "metadata": {},
   "source": [
    "Some time indices of testing data are beyond training data indices, therefore we need to fill them."
   ]
  },
  {
   "cell_type": "code",
   "execution_count": 9,
   "metadata": {
    "collapsed": false
   },
   "outputs": [
    {
     "name": "stdout",
     "output_type": "stream",
     "text": [
      "1 2016-01-30-142\n",
      "4 2016-01-30-142\n",
      "6 2016-01-30-142\n",
      "7 2016-01-30-142\n",
      "8 2016-01-30-142\n",
      "9 2016-01-30-142\n",
      "11 2016-01-30-142\n",
      "12 2016-01-30-142\n",
      "13 2016-01-30-142\n",
      "14 2016-01-30-142\n",
      "16 2016-01-30-142\n",
      "18 2016-01-30-142\n",
      "19 2016-01-30-142\n",
      "20 2016-01-30-142\n",
      "21 2016-01-30-142\n",
      "22 2016-01-30-142\n",
      "23 2016-01-30-142\n",
      "24 2016-01-30-142\n",
      "25 2016-01-30-142\n",
      "27 2016-01-30-142\n",
      "28 2016-01-30-142\n",
      "32 2016-01-30-142\n",
      "33 2016-01-30-142\n",
      "35 2016-01-30-142\n",
      "36 2016-01-30-142\n",
      "37 2016-01-30-142\n",
      "38 2016-01-30-142\n",
      "42 2016-01-30-142\n",
      "43 2016-01-30-130\n",
      "43 2016-01-30-142\n",
      "46 2016-01-30-142\n",
      "47 2016-01-30-142\n",
      "48 2016-01-30-142\n",
      "50 2016-01-30-142\n",
      "51 2016-01-30-142\n",
      "55 2016-01-30-142\n",
      "60 2016-01-30-130\n",
      "62 2016-01-30-130\n"
     ]
    }
   ],
   "source": [
    "#Check whether there are time periods out of testing examples\n",
    "#Add the out-of-example periods into the original data\n",
    "order_test_sample_sorted =order_test_sample\n",
    "for i in range(test.shape[0]):\n",
    "    item = test.loc[i, :]\n",
    "    district_id = item.district_id\n",
    "    time_label = item.time_label\n",
    "    line = pd.DataFrame([[district_id, time_label, item.time]], columns=['district_id', 'time_label', 'time'])\n",
    "    if len(order_test_sample[(order_test_sample.district_id==district_id) \n",
    "                             & (order_test_sample.time_label==time_label)]) == 0:\n",
    "        order_test_sample_sorted = order_test_sample_sorted.append(line, ignore_index=True)\n",
    "        print district_id, time_label\n",
    "order_test_sample_sorted = order_test_sample_sorted.sort_values(['district_id', 'time'])"
   ]
  },
  {
   "cell_type": "markdown",
   "metadata": {},
   "source": [
    "## Data Exploration\n",
    "\n",
    "As we have preprocessed the original data, now we need to explore the features and find characteristics of them."
   ]
  },
  {
   "cell_type": "markdown",
   "metadata": {},
   "source": [
    "### Univariate Analysis"
   ]
  },
  {
   "cell_type": "code",
   "execution_count": 11,
   "metadata": {
    "collapsed": false
   },
   "outputs": [
    {
     "data": {
      "text/plain": [
       "<matplotlib.axes._subplots.AxesSubplot at 0xde7c940>"
      ]
     },
     "execution_count": 11,
     "metadata": {},
     "output_type": "execute_result"
    },
    {
     "data": {
      "image/png": "[encoded data removed]",
      "text/plain": [
       "<matplotlib.figure.Figure at 0x11e0d048>"
      ]
     },
     "metadata": {},
     "output_type": "display_data"
    }
   ],
   "source": [
    "pl.style.use('ggplot')\n",
    "order_train_sample_selected.groupby('district_id').gap.mean().plot()\n",
    "order_train_sample_selected.groupby('district_id').gap.median().plot()"
   ]
  },
  {
   "cell_type": "markdown",
   "metadata": {},
   "source": [
    "It seems different districts have different gap means."
   ]
  },
  {
   "cell_type": "code",
   "execution_count": 12,
   "metadata": {
    "collapsed": false
   },
   "outputs": [
    {
     "data": {
      "text/plain": [
       "<matplotlib.axes._subplots.AxesSubplot at 0x12e185c0>"
      ]
     },
     "execution_count": 12,
     "metadata": {},
     "output_type": "execute_result"
    },
    {
     "data": {
      "image/png": "[encoded data removed]",
      "text/plain": [
       "<matplotlib.figure.Figure at 0xde7c0f0>"
      ]
     },
     "metadata": {},
     "output_type": "display_data"
    }
   ],
   "source": [
    "temp = order_train_sample_selected[order_train_sample_selected.district_id==20]\n",
    "temp.groupby('time_period').gap.mean().plot()\n",
    "temp = order_train_sample_selected[order_train_sample_selected.district_id==22]\n",
    "temp.groupby('time_period').gap.mean().plot()\n",
    "temp = order_train_sample_selected[order_train_sample_selected.district_id==23]\n",
    "temp.groupby('time_period').gap.mean().plot()"
   ]
  },
  {
   "cell_type": "code",
   "execution_count": 13,
   "metadata": {
    "collapsed": false
   },
   "outputs": [
    {
     "data": {
      "text/plain": [
       "<matplotlib.axes._subplots.AxesSubplot at 0x12e0e860>"
      ]
     },
     "execution_count": 13,
     "metadata": {},
     "output_type": "execute_result"
    },
    {
     "data": {
      "image/png": "[encoded data removed]",
      "text/plain": [
       "<matplotlib.figure.Figure at 0xde7c668>"
      ]
     },
     "metadata": {},
     "output_type": "display_data"
    }
   ],
   "source": [
    "order_train_sample_selected.groupby(['time_period']).gap.mean().plot()\n",
    "order_train_sample_selected.groupby(['time_period']).gap.median().plot()"
   ]
  },
  {
   "cell_type": "markdown",
   "metadata": {},
   "source": [
    "For some periods of the day, such as around 8:00, the averge gap is quite large."
   ]
  },
  {
   "cell_type": "code",
   "execution_count": 14,
   "metadata": {
    "collapsed": false
   },
   "outputs": [
    {
     "data": {
      "text/plain": [
       "<matplotlib.axes._subplots.AxesSubplot at 0x12e0ea58>"
      ]
     },
     "execution_count": 14,
     "metadata": {},
     "output_type": "execute_result"
    },
    {
     "data": {
      "image/png": "[encoded data removed]",
      "text/plain": [
       "<matplotlib.figure.Figure at 0xdc70d68>"
      ]
     },
     "metadata": {},
     "output_type": "display_data"
    }
   ],
   "source": [
    "order_train_sample_selected.groupby(['weekday']).gap.mean().plot()\n",
    "order_train_sample_selected.groupby(['weekday']).gap.median().plot()"
   ]
  },
  {
   "cell_type": "markdown",
   "metadata": {},
   "source": [
    "Find those districts which are not so demanding for orders."
   ]
  },
  {
   "cell_type": "code",
   "execution_count": 15,
   "metadata": {
    "collapsed": false
   },
   "outputs": [],
   "source": [
    "index_median = order_train_sample_selected.groupby(['district_id']).gap.median()<5\n",
    "index_mean = order_train_sample_selected.groupby(['district_id']).gap.mean()<5"
   ]
  },
  {
   "cell_type": "markdown",
   "metadata": {},
   "source": [
    "It seems districts 2, 3, 5 and etc have less orders generally."
   ]
  },
  {
   "cell_type": "code",
   "execution_count": 16,
   "metadata": {
    "collapsed": false
   },
   "outputs": [
    {
     "data": {
      "text/plain": [
       "<matplotlib.axes._subplots.AxesSubplot at 0xd962c50>"
      ]
     },
     "execution_count": 16,
     "metadata": {},
     "output_type": "execute_result"
    },
    {
     "data": {
      "image/png": "[encoded data removed]",
      "text/plain": [
       "<matplotlib.figure.Figure at 0xdbf1a58>"
      ]
     },
     "metadata": {},
     "output_type": "display_data"
    }
   ],
   "source": [
    "fig = pl.figure(figsize=(10, 8))\n",
    "ax1 = fig.add_subplot(2, 2, 1)\n",
    "order_train_sample_selected.tj_level1.plot.hist(title = 'Distribution of Tj_level1')\n",
    "ax2 = fig.add_subplot(2, 2, 2)\n",
    "order_train_sample_selected.tj_level2.plot.hist(title = 'Distribution of Tj_level2')\n",
    "ax3 = fig.add_subplot(2, 2, 3)\n",
    "order_train_sample_selected.tj_level3.plot.hist(title = 'Distribution of Tj_level3')\n",
    "ax4 = fig.add_subplot(2, 2, 4)\n",
    "order_train_sample_selected.tj_level4.plot.hist(title = 'Distribution of Tj_level4')"
   ]
  },
  {
   "cell_type": "markdown",
   "metadata": {},
   "source": [
    "Actually, many districts do not have intensive calls for cars."
   ]
  },
  {
   "cell_type": "code",
   "execution_count": 17,
   "metadata": {
    "collapsed": false
   },
   "outputs": [],
   "source": [
    "def logTrans(x):\n",
    "    return np.log(x+1)"
   ]
  },
  {
   "cell_type": "code",
   "execution_count": 18,
   "metadata": {
    "collapsed": false
   },
   "outputs": [
    {
     "data": {
      "image/png": "[encoded data removed]",
      "text/plain": [
       "<matplotlib.figure.Figure at 0xdbfa860>"
      ]
     },
     "metadata": {},
     "output_type": "display_data"
    }
   ],
   "source": [
    "#order_train_sample_selected.tj_level1.map(lambda x: np.log(x+1)).plot(kind='hist')\n",
    "fig = pl.figure(figsize=(10, 8))\n",
    "for i in range(1, 5):\n",
    "    ax = fig.add_subplot(2, 2, i)\n",
    "    order_train_sample_selected['tj_level'+str(i)].map(logTrans).plot.hist \\\n",
    "         (title= 'Distribution of Log Tj_level' + str(i))"
   ]
  },
  {
   "cell_type": "markdown",
   "metadata": {},
   "source": [
    "Traffic jams such as tj_levels were quite skewed, and a log transformation will make the shape better."
   ]
  },
  {
   "cell_type": "markdown",
   "metadata": {},
   "source": [
    "### Bivariate Analysis"
   ]
  },
  {
   "cell_type": "code",
   "execution_count": 19,
   "metadata": {
    "collapsed": false
   },
   "outputs": [
    {
     "data": {
      "text/html": [
       "<div>\n",
       "<table border=\"1\" class=\"dataframe\">\n",
       "  <thead>\n",
       "    <tr style=\"text-align: right;\">\n",
       "      <th></th>\n",
       "      <th>time</th>\n",
       "      <th>gap</th>\n",
       "      <th>order_id</th>\n",
       "      <th>tj_level1</th>\n",
       "      <th>tj_level2</th>\n",
       "      <th>tj_level3</th>\n",
       "      <th>tj_level4</th>\n",
       "      <th>district_id</th>\n",
       "    </tr>\n",
       "  </thead>\n",
       "  <tbody>\n",
       "    <tr>\n",
       "      <th>0</th>\n",
       "      <td>2016-01-01 00:00:00</td>\n",
       "      <td>9</td>\n",
       "      <td>187</td>\n",
       "      <td>NaN</td>\n",
       "      <td>NaN</td>\n",
       "      <td>NaN</td>\n",
       "      <td>NaN</td>\n",
       "      <td>1.0</td>\n",
       "    </tr>\n",
       "    <tr>\n",
       "      <th>1</th>\n",
       "      <td>2016-01-01 00:10:00</td>\n",
       "      <td>7</td>\n",
       "      <td>198</td>\n",
       "      <td>1399.0</td>\n",
       "      <td>318.0</td>\n",
       "      <td>102.0</td>\n",
       "      <td>94.0</td>\n",
       "      <td>1.0</td>\n",
       "    </tr>\n",
       "    <tr>\n",
       "      <th>2</th>\n",
       "      <td>2016-01-01 00:20:00</td>\n",
       "      <td>10</td>\n",
       "      <td>192</td>\n",
       "      <td>1491.0</td>\n",
       "      <td>322.0</td>\n",
       "      <td>99.0</td>\n",
       "      <td>64.0</td>\n",
       "      <td>1.0</td>\n",
       "    </tr>\n",
       "    <tr>\n",
       "      <th>3</th>\n",
       "      <td>2016-01-01 00:30:00</td>\n",
       "      <td>5</td>\n",
       "      <td>172</td>\n",
       "      <td>1490.0</td>\n",
       "      <td>287.0</td>\n",
       "      <td>98.0</td>\n",
       "      <td>78.0</td>\n",
       "      <td>1.0</td>\n",
       "    </tr>\n",
       "    <tr>\n",
       "      <th>4</th>\n",
       "      <td>2016-01-01 00:40:00</td>\n",
       "      <td>1</td>\n",
       "      <td>153</td>\n",
       "      <td>1425.0</td>\n",
       "      <td>302.0</td>\n",
       "      <td>95.0</td>\n",
       "      <td>51.0</td>\n",
       "      <td>1.0</td>\n",
       "    </tr>\n",
       "  </tbody>\n",
       "</table>\n",
       "</div>"
      ],
      "text/plain": [
       "                 time  gap  order_id  tj_level1  tj_level2  tj_level3  \\\n",
       "0 2016-01-01 00:00:00    9       187        NaN        NaN        NaN   \n",
       "1 2016-01-01 00:10:00    7       198     1399.0      318.0      102.0   \n",
       "2 2016-01-01 00:20:00   10       192     1491.0      322.0       99.0   \n",
       "3 2016-01-01 00:30:00    5       172     1490.0      287.0       98.0   \n",
       "4 2016-01-01 00:40:00    1       153     1425.0      302.0       95.0   \n",
       "\n",
       "   tj_level4  district_id  \n",
       "0        NaN          1.0  \n",
       "1       94.0          1.0  \n",
       "2       64.0          1.0  \n",
       "3       78.0          1.0  \n",
       "4       51.0          1.0  "
      ]
     },
     "execution_count": 19,
     "metadata": {},
     "output_type": "execute_result"
    }
   ],
   "source": [
    "cols = ['time', 'gap', 'order_id', 'tj_level1','tj_level2','tj_level3', 'tj_level4', 'district_id']\n",
    "order_train_sample_selected[cols].head()"
   ]
  },
  {
   "cell_type": "code",
   "execution_count": 20,
   "metadata": {
    "collapsed": false
   },
   "outputs": [],
   "source": [
    "#Calculate the ratio of gap and order_id\n",
    "def ratio(x):\n",
    "    if x.order_id > 0:\n",
    "        return x.gap/x.order_id\n",
    "    else:\n",
    "        return 0\n",
    "order_train_sample_selected['ratio'] = order_train_sample_selected.apply(ratio, axis=1)"
   ]
  },
  {
   "cell_type": "code",
   "execution_count": 21,
   "metadata": {
    "collapsed": false
   },
   "outputs": [
    {
     "data": {
      "text/plain": [
       "count    199483.00000\n",
       "mean          0.02919\n",
       "std           0.16834\n",
       "min           0.00000\n",
       "25%           0.00000\n",
       "50%           0.00000\n",
       "75%           0.00000\n",
       "max           1.00000\n",
       "Name: ratio, dtype: float64"
      ]
     },
     "execution_count": 21,
     "metadata": {},
     "output_type": "execute_result"
    }
   ],
   "source": [
    "order_train_sample_selected.ratio.describe()"
   ]
  },
  {
   "cell_type": "markdown",
   "metadata": {},
   "source": [
    "The ratios are very small, most are just zeros or above."
   ]
  },
  {
   "cell_type": "code",
   "execution_count": 22,
   "metadata": {
    "collapsed": false
   },
   "outputs": [
    {
     "data": {
      "text/plain": [
       "[<matplotlib.lines.Line2D at 0xdc892e8>]"
      ]
     },
     "execution_count": 22,
     "metadata": {},
     "output_type": "execute_result"
    },
    {
     "data": {
      "image/png": "[encoded data removed]",
      "text/plain": [
       "<matplotlib.figure.Figure at 0x11b93978>"
      ]
     },
     "metadata": {},
     "output_type": "display_data"
    }
   ],
   "source": [
    "pl.figure(figsize=(22,8))\n",
    "temp = order_train_sample_selected[order_train_sample_selected.district_id==1]\n",
    "pl.plot(temp.time, temp.gap)\n",
    "#pl.plot(temp.time, temp.tj_level1)"
   ]
  },
  {
   "cell_type": "code",
   "execution_count": 23,
   "metadata": {
    "collapsed": false
   },
   "outputs": [
    {
     "data": {
      "text/plain": [
       "[<matplotlib.lines.Line2D at 0x27010518>]"
      ]
     },
     "execution_count": 23,
     "metadata": {},
     "output_type": "execute_result"
    },
    {
     "data": {
      "image/png": "[encoded data removed]",
      "text/plain": [
       "<matplotlib.figure.Figure at 0x120d9b38>"
      ]
     },
     "metadata": {},
     "output_type": "display_data"
    }
   ],
   "source": [
    "pl.figure(figsize=(22,8))\n",
    "temp = order_train_sample_selected[order_train_sample_selected.district_id==1]\n",
    "pl.plot(temp.time, temp.order_id)\n",
    "pl.plot(temp.time, temp.tj_level1)"
   ]
  },
  {
   "cell_type": "markdown",
   "metadata": {},
   "source": [
    "The orders and traffic jams vibrate periodically. And when there are peaks in orders, there are also peaks in gaps. W need to use differences to eliminate the influenc of periods."
   ]
  },
  {
   "cell_type": "code",
   "execution_count": 24,
   "metadata": {
    "collapsed": false
   },
   "outputs": [
    {
     "data": {
      "text/html": [
       "<div>\n",
       "<table border=\"1\" class=\"dataframe\">\n",
       "  <thead>\n",
       "    <tr style=\"text-align: right;\">\n",
       "      <th></th>\n",
       "      <th>gap</th>\n",
       "      <th>order_id</th>\n",
       "      <th>tj_level1</th>\n",
       "      <th>tj_level2</th>\n",
       "      <th>tj_level3</th>\n",
       "      <th>tj_level4</th>\n",
       "      <th>time</th>\n",
       "      <th>district_id</th>\n",
       "    </tr>\n",
       "  </thead>\n",
       "  <tbody>\n",
       "    <tr>\n",
       "      <th>0</th>\n",
       "      <td>NaN</td>\n",
       "      <td>NaN</td>\n",
       "      <td>NaN</td>\n",
       "      <td>NaN</td>\n",
       "      <td>NaN</td>\n",
       "      <td>NaN</td>\n",
       "      <td>2016-01-01 00:00:00</td>\n",
       "      <td>1.0</td>\n",
       "    </tr>\n",
       "    <tr>\n",
       "      <th>1</th>\n",
       "      <td>-2.0</td>\n",
       "      <td>11.0</td>\n",
       "      <td>NaN</td>\n",
       "      <td>NaN</td>\n",
       "      <td>NaN</td>\n",
       "      <td>NaN</td>\n",
       "      <td>2016-01-01 00:10:00</td>\n",
       "      <td>1.0</td>\n",
       "    </tr>\n",
       "    <tr>\n",
       "      <th>2</th>\n",
       "      <td>3.0</td>\n",
       "      <td>-6.0</td>\n",
       "      <td>92.0</td>\n",
       "      <td>4.0</td>\n",
       "      <td>-3.0</td>\n",
       "      <td>-30.0</td>\n",
       "      <td>2016-01-01 00:20:00</td>\n",
       "      <td>1.0</td>\n",
       "    </tr>\n",
       "    <tr>\n",
       "      <th>3</th>\n",
       "      <td>-5.0</td>\n",
       "      <td>-20.0</td>\n",
       "      <td>-1.0</td>\n",
       "      <td>-35.0</td>\n",
       "      <td>-1.0</td>\n",
       "      <td>14.0</td>\n",
       "      <td>2016-01-01 00:30:00</td>\n",
       "      <td>1.0</td>\n",
       "    </tr>\n",
       "    <tr>\n",
       "      <th>4</th>\n",
       "      <td>-4.0</td>\n",
       "      <td>-19.0</td>\n",
       "      <td>-65.0</td>\n",
       "      <td>15.0</td>\n",
       "      <td>-3.0</td>\n",
       "      <td>-27.0</td>\n",
       "      <td>2016-01-01 00:40:00</td>\n",
       "      <td>1.0</td>\n",
       "    </tr>\n",
       "  </tbody>\n",
       "</table>\n",
       "</div>"
      ],
      "text/plain": [
       "   gap  order_id  tj_level1  tj_level2  tj_level3  tj_level4  \\\n",
       "0  NaN       NaN        NaN        NaN        NaN        NaN   \n",
       "1 -2.0      11.0        NaN        NaN        NaN        NaN   \n",
       "2  3.0      -6.0       92.0        4.0       -3.0      -30.0   \n",
       "3 -5.0     -20.0       -1.0      -35.0       -1.0       14.0   \n",
       "4 -4.0     -19.0      -65.0       15.0       -3.0      -27.0   \n",
       "\n",
       "                 time  district_id  \n",
       "0 2016-01-01 00:00:00          1.0  \n",
       "1 2016-01-01 00:10:00          1.0  \n",
       "2 2016-01-01 00:20:00          1.0  \n",
       "3 2016-01-01 00:30:00          1.0  \n",
       "4 2016-01-01 00:40:00          1.0  "
      ]
     },
     "execution_count": 24,
     "metadata": {},
     "output_type": "execute_result"
    }
   ],
   "source": [
    "cols = ['gap','order_id', 'tj_level1','tj_level2','tj_level3', 'tj_level4']\n",
    "order_diff = order_train_sample_selected[cols].diff()\n",
    "order_diff['time'] = order_train_sample_selected.time\n",
    "order_diff['district_id'] = order_train_sample_selected.district_id\n",
    "#order_diff['gap'] = order_train_sample_selected.gap\n",
    "order_diff.head()"
   ]
  },
  {
   "cell_type": "code",
   "execution_count": 25,
   "metadata": {
    "collapsed": false
   },
   "outputs": [
    {
     "data": {
      "text/plain": [
       "[<matplotlib.lines.Line2D at 0x148222b0>]"
      ]
     },
     "execution_count": 25,
     "metadata": {},
     "output_type": "execute_result"
    },
    {
     "data": {
      "image/png": "[encoded data removed]",
      "text/plain": [
       "<matplotlib.figure.Figure at 0x27027198>"
      ]
     },
     "metadata": {},
     "output_type": "display_data"
    }
   ],
   "source": [
    "pl.figure(figsize=(12,9))\n",
    "pl.plot(order_diff.order_id, order_diff.gap, 'bo')"
   ]
  },
  {
   "cell_type": "code",
   "execution_count": 26,
   "metadata": {
    "collapsed": false
   },
   "outputs": [
    {
     "data": {
      "text/plain": [
       "[<matplotlib.lines.Line2D at 0x11cc55f8>]"
      ]
     },
     "execution_count": 26,
     "metadata": {},
     "output_type": "execute_result"
    },
    {
     "data": {
      "image/png": "[encoded data removed]",
      "text/plain": [
       "<matplotlib.figure.Figure at 0x2a04e048>"
      ]
     },
     "metadata": {},
     "output_type": "display_data"
    }
   ],
   "source": [
    "pl.plot(order_diff.tj_level4, order_diff.gap, 'bo')"
   ]
  },
  {
   "cell_type": "code",
   "execution_count": 27,
   "metadata": {
    "collapsed": false
   },
   "outputs": [
    {
     "data": {
      "text/plain": [
       "[<matplotlib.lines.Line2D at 0x25123fd0>]"
      ]
     },
     "execution_count": 27,
     "metadata": {},
     "output_type": "execute_result"
    },
    {
     "data": {
      "image/png": "[encoded data removed]",
      "text/plain": [
       "<matplotlib.figure.Figure at 0x27027128>"
      ]
     },
     "metadata": {},
     "output_type": "display_data"
    }
   ],
   "source": [
    "pl.plot(order_diff[order_diff.district_id==1].time, order_diff[order_diff.district_id==1].order_id,'.')"
   ]
  },
  {
   "cell_type": "markdown",
   "metadata": {},
   "source": [
    "It seems there is linear relationship between the differences of order_id and differences of gap, whereas tj_levels do not influence gap differences directly."
   ]
  },
  {
   "cell_type": "markdown",
   "metadata": {},
   "source": [
    "## Feature Extraction"
   ]
  },
  {
   "cell_type": "markdown",
   "metadata": {},
   "source": [
    "Cut the day into several periods and add *gap*, *order_id* previous values as new features."
   ]
  },
  {
   "cell_type": "code",
   "execution_count": 28,
   "metadata": {
    "collapsed": false
   },
   "outputs": [],
   "source": [
    "order_train_sample_selected['day_period'] = pd.cut(order_train_sample_selected.time_period,\n",
    "                                                   bins=[-1, 40, 60, 80, 100, 120, 150], labels=[0,1,2,3,4,5])\n",
    "order_test_sample_sorted['day_period'] = pd.cut(order_test_sample_sorted.time_period,\n",
    "                                                   bins=[-1, 40, 60, 80, 100, 120, 150], labels=[0,1,2,3,4,5])"
   ]
  },
  {
   "cell_type": "markdown",
   "metadata": {},
   "source": [
    "Log transformation of tj_level values."
   ]
  },
  {
   "cell_type": "code",
   "execution_count": 29,
   "metadata": {
    "collapsed": true
   },
   "outputs": [],
   "source": [
    "for i in range(1, 5):\n",
    "    order_train_sample_selected['log_tj_level'+str(i)] = order_train_sample_selected['tj_level'+str(i)].map(lambda x: np.log(x+1))\n",
    "    order_test_sample_sorted['log_tj_level'+str(i)] = order_test_sample_sorted['tj_level'+str(i)].map(lambda x: np.log(x+1))"
   ]
  },
  {
   "cell_type": "markdown",
   "metadata": {},
   "source": [
    "As mentioned above, it seems the differences of gap and order are correlated, therefore we can add the differences as new features."
   ]
  },
  {
   "cell_type": "code",
   "execution_count": 30,
   "metadata": {
    "collapsed": true
   },
   "outputs": [],
   "source": [
    "#order_train_sample_selected['gap_diff'] = order_diff.gap\n",
    "#order_train_sample_selected['order_diff'] = order_diff.order_id"
   ]
  },
  {
   "cell_type": "markdown",
   "metadata": {},
   "source": [
    "Create features which record previous values."
   ]
  },
  {
   "cell_type": "code",
   "execution_count": 31,
   "metadata": {
    "collapsed": false
   },
   "outputs": [],
   "source": [
    "#Calculate diffs for order and gap\n",
    "def orderDiff(dt):\n",
    "    dt['order_diff'] = dt.order_id.diff()\n",
    "    dt['gap_diff'] = dt.gap.diff()\n",
    "    return dt\n",
    "#Diff shifting\n",
    "def orderDiffShifting(dt):\n",
    "    dt['order_diff1'] = dt.order_diff.shift(1)\n",
    "    dt['order_diff2'] = dt.order_diff.shift(2)\n",
    "    return dt\n",
    "    \n",
    "#Shift gap values\n",
    "def gapShifting(dt):\n",
    "    dt['gap1'] = dt.gap.shift(1)\n",
    "    dt['gap2'] = dt.gap.shift(2)\n",
    "    dt['gap3'] = dt.gap.shift(3)\n",
    "    return dt\n",
    "#Shift order count values\n",
    "def orderShifting(dt):\n",
    "    dt['order_id1'] = dt.order_id.shift(1)\n",
    "    dt['order_id2'] = dt.order_id.shift(2)\n",
    "    dt['order_id3'] = dt.order_id.shift(3)\n",
    "    return dt\n",
    "#Shift traffic jams\n",
    "def tjShifting(dt):\n",
    "    for i in range(1, 4):\n",
    "        for j in range(1, 5):\n",
    "            dt['tj_level'+str(j)+str(i)] = dt['log_tj_level'+str(j)].shift(i)\n",
    "    return dt\n",
    "#Combine them together\n",
    "def shifting(dt):\n",
    "    dt = gapShifting(dt)\n",
    "    dt = orderShifting(dt)\n",
    "    dt = tjShifting(dt)\n",
    "    dt = orderDiff(dt)\n",
    "    dt = orderDiffShifting(dt)\n",
    "    return dt\n",
    "#Add previous values as new features\n",
    "order_train_sample_series = order_train_sample_selected.set_index('time')\n",
    "order_test_sample_series = order_test_sample_sorted.set_index('time')\n",
    "order_train_sample_series = order_train_sample_series.groupby('district_id').apply(shifting)\n",
    "order_test_sample_series = order_test_sample_series.groupby('district_id').apply(shifting)"
   ]
  },
  {
   "cell_type": "code",
   "execution_count": 32,
   "metadata": {
    "collapsed": false
   },
   "outputs": [
    {
     "data": {
      "text/html": [
       "<div>\n",
       "<table border=\"1\" class=\"dataframe\">\n",
       "  <thead>\n",
       "    <tr style=\"text-align: right;\">\n",
       "      <th></th>\n",
       "      <th>district_id</th>\n",
       "      <th>gap</th>\n",
       "      <th>order_id</th>\n",
       "      <th>order_diff</th>\n",
       "      <th>order_diff2</th>\n",
       "    </tr>\n",
       "    <tr>\n",
       "      <th>time</th>\n",
       "      <th></th>\n",
       "      <th></th>\n",
       "      <th></th>\n",
       "      <th></th>\n",
       "      <th></th>\n",
       "    </tr>\n",
       "  </thead>\n",
       "  <tbody>\n",
       "    <tr>\n",
       "      <th>2016-01-22 07:00:00</th>\n",
       "      <td>1.0</td>\n",
       "      <td>4.0</td>\n",
       "      <td>74.0</td>\n",
       "      <td>NaN</td>\n",
       "      <td>NaN</td>\n",
       "    </tr>\n",
       "    <tr>\n",
       "      <th>2016-01-22 07:10:00</th>\n",
       "      <td>1.0</td>\n",
       "      <td>1.0</td>\n",
       "      <td>128.0</td>\n",
       "      <td>54.0</td>\n",
       "      <td>NaN</td>\n",
       "    </tr>\n",
       "    <tr>\n",
       "      <th>2016-01-22 07:20:00</th>\n",
       "      <td>1.0</td>\n",
       "      <td>5.0</td>\n",
       "      <td>175.0</td>\n",
       "      <td>47.0</td>\n",
       "      <td>NaN</td>\n",
       "    </tr>\n",
       "    <tr>\n",
       "      <th>2016-01-22 07:30:00</th>\n",
       "      <td>1.0</td>\n",
       "      <td>0.0</td>\n",
       "      <td>0.0</td>\n",
       "      <td>-175.0</td>\n",
       "      <td>54.0</td>\n",
       "    </tr>\n",
       "    <tr>\n",
       "      <th>2016-01-22 07:40:00</th>\n",
       "      <td>1.0</td>\n",
       "      <td>0.0</td>\n",
       "      <td>0.0</td>\n",
       "      <td>0.0</td>\n",
       "      <td>47.0</td>\n",
       "    </tr>\n",
       "  </tbody>\n",
       "</table>\n",
       "</div>"
      ],
      "text/plain": [
       "                     district_id  gap  order_id  order_diff  order_diff2\n",
       "time                                                                    \n",
       "2016-01-22 07:00:00          1.0  4.0      74.0         NaN          NaN\n",
       "2016-01-22 07:10:00          1.0  1.0     128.0        54.0          NaN\n",
       "2016-01-22 07:20:00          1.0  5.0     175.0        47.0          NaN\n",
       "2016-01-22 07:30:00          1.0  0.0       0.0      -175.0         54.0\n",
       "2016-01-22 07:40:00          1.0  0.0       0.0         0.0         47.0"
      ]
     },
     "execution_count": 32,
     "metadata": {},
     "output_type": "execute_result"
    }
   ],
   "source": [
    "order_test_sample_series[['district_id','gap','order_id','order_diff', 'order_diff2']].head()"
   ]
  },
  {
   "cell_type": "markdown",
   "metadata": {},
   "source": [
    "We can also fill the columns of test data set with previous values."
   ]
  },
  {
   "cell_type": "code",
   "execution_count": 33,
   "metadata": {
    "collapsed": false
   },
   "outputs": [],
   "source": [
    "#Fill the columns of test data set with previous values as new features\n",
    "def fillColumn(x):\n",
    "    order_test_series = order_test_sample_series\n",
    "    time = x.time\n",
    "    order_test_series_district = order_test_series[order_test_series.district_id==x.district_id]\n",
    "    #print x.district_id, time\n",
    "    for i in range(1,4):\n",
    "        time_i = time-Minute(10*i)\n",
    "        if time_i in order_test_series_district.index:#If the time index exists\n",
    "            x['gap'+str(i)] = order_test_series_district.loc[time_i, 'gap']\n",
    "            x['order_id'+str(i)] = order_test_series_district.loc[time_i, 'order_id']\n",
    "            for j in range(1, 5):\n",
    "                x['tj_level'+str(j)+str(i)] = order_test_series_district.loc[time_i, 'log_tj_level'+str(j)]\n",
    "        else:\n",
    "            x['gap'+str(i)] = np.nan\n",
    "            x['order_id'+str(i)] = np.nan\n",
    "            for j in range(1, 5):\n",
    "                x['tj_level'+str(j)+str(i)] = np.nan\n",
    "    return x\n",
    "\n",
    "test_joined = test.apply(lambda x: fillColumn(x), axis=1)"
   ]
  },
  {
   "cell_type": "code",
   "execution_count": 34,
   "metadata": {
    "collapsed": false
   },
   "outputs": [
    {
     "data": {
      "text/html": [
       "<div>\n",
       "<table border=\"1\" class=\"dataframe\">\n",
       "  <thead>\n",
       "    <tr style=\"text-align: right;\">\n",
       "      <th></th>\n",
       "      <th>district_id</th>\n",
       "      <th>gap</th>\n",
       "      <th>gap1</th>\n",
       "      <th>gap2</th>\n",
       "      <th>gap3</th>\n",
       "      <th>order_diff</th>\n",
       "    </tr>\n",
       "    <tr>\n",
       "      <th>time</th>\n",
       "      <th></th>\n",
       "      <th></th>\n",
       "      <th></th>\n",
       "      <th></th>\n",
       "      <th></th>\n",
       "      <th></th>\n",
       "    </tr>\n",
       "  </thead>\n",
       "  <tbody>\n",
       "    <tr>\n",
       "      <th>2016-01-01 00:00:00</th>\n",
       "      <td>1.0</td>\n",
       "      <td>9</td>\n",
       "      <td>NaN</td>\n",
       "      <td>NaN</td>\n",
       "      <td>NaN</td>\n",
       "      <td>NaN</td>\n",
       "    </tr>\n",
       "    <tr>\n",
       "      <th>2016-01-01 00:10:00</th>\n",
       "      <td>1.0</td>\n",
       "      <td>7</td>\n",
       "      <td>9.0</td>\n",
       "      <td>NaN</td>\n",
       "      <td>NaN</td>\n",
       "      <td>11.0</td>\n",
       "    </tr>\n",
       "    <tr>\n",
       "      <th>2016-01-01 00:20:00</th>\n",
       "      <td>1.0</td>\n",
       "      <td>10</td>\n",
       "      <td>7.0</td>\n",
       "      <td>9.0</td>\n",
       "      <td>NaN</td>\n",
       "      <td>-6.0</td>\n",
       "    </tr>\n",
       "    <tr>\n",
       "      <th>2016-01-01 00:30:00</th>\n",
       "      <td>1.0</td>\n",
       "      <td>5</td>\n",
       "      <td>10.0</td>\n",
       "      <td>7.0</td>\n",
       "      <td>9.0</td>\n",
       "      <td>-20.0</td>\n",
       "    </tr>\n",
       "    <tr>\n",
       "      <th>2016-01-01 00:40:00</th>\n",
       "      <td>1.0</td>\n",
       "      <td>1</td>\n",
       "      <td>5.0</td>\n",
       "      <td>10.0</td>\n",
       "      <td>7.0</td>\n",
       "      <td>-19.0</td>\n",
       "    </tr>\n",
       "  </tbody>\n",
       "</table>\n",
       "</div>"
      ],
      "text/plain": [
       "                     district_id  gap  gap1  gap2  gap3  order_diff\n",
       "time                                                               \n",
       "2016-01-01 00:00:00          1.0    9   NaN   NaN   NaN         NaN\n",
       "2016-01-01 00:10:00          1.0    7   9.0   NaN   NaN        11.0\n",
       "2016-01-01 00:20:00          1.0   10   7.0   9.0   NaN        -6.0\n",
       "2016-01-01 00:30:00          1.0    5  10.0   7.0   9.0       -20.0\n",
       "2016-01-01 00:40:00          1.0    1   5.0  10.0   7.0       -19.0"
      ]
     },
     "execution_count": 34,
     "metadata": {},
     "output_type": "execute_result"
    }
   ],
   "source": [
    "order_train_sample_series[['district_id','gap','gap1','gap2','gap3','order_diff']].head()"
   ]
  },
  {
   "cell_type": "code",
   "execution_count": 94,
   "metadata": {
    "collapsed": false
   },
   "outputs": [
    {
     "data": {
      "text/html": [
       "<div>\n",
       "<table border=\"1\" class=\"dataframe\">\n",
       "  <thead>\n",
       "    <tr style=\"text-align: right;\">\n",
       "      <th></th>\n",
       "      <th>district_id</th>\n",
       "      <th>gap</th>\n",
       "      <th>gap1</th>\n",
       "      <th>gap2</th>\n",
       "      <th>gap3</th>\n",
       "    </tr>\n",
       "    <tr>\n",
       "      <th>time</th>\n",
       "      <th></th>\n",
       "      <th></th>\n",
       "      <th></th>\n",
       "      <th></th>\n",
       "      <th></th>\n",
       "    </tr>\n",
       "  </thead>\n",
       "  <tbody>\n",
       "    <tr>\n",
       "      <th>2016-01-22 07:00:00</th>\n",
       "      <td>1.0</td>\n",
       "      <td>4.0</td>\n",
       "      <td>NaN</td>\n",
       "      <td>NaN</td>\n",
       "      <td>NaN</td>\n",
       "    </tr>\n",
       "    <tr>\n",
       "      <th>2016-01-22 07:10:00</th>\n",
       "      <td>1.0</td>\n",
       "      <td>1.0</td>\n",
       "      <td>4.0</td>\n",
       "      <td>NaN</td>\n",
       "      <td>NaN</td>\n",
       "    </tr>\n",
       "    <tr>\n",
       "      <th>2016-01-22 07:20:00</th>\n",
       "      <td>1.0</td>\n",
       "      <td>5.0</td>\n",
       "      <td>1.0</td>\n",
       "      <td>4.0</td>\n",
       "      <td>NaN</td>\n",
       "    </tr>\n",
       "    <tr>\n",
       "      <th>2016-01-22 07:30:00</th>\n",
       "      <td>1.0</td>\n",
       "      <td>0.0</td>\n",
       "      <td>5.0</td>\n",
       "      <td>1.0</td>\n",
       "      <td>4.0</td>\n",
       "    </tr>\n",
       "    <tr>\n",
       "      <th>2016-01-22 07:40:00</th>\n",
       "      <td>1.0</td>\n",
       "      <td>0.0</td>\n",
       "      <td>0.0</td>\n",
       "      <td>5.0</td>\n",
       "      <td>1.0</td>\n",
       "    </tr>\n",
       "  </tbody>\n",
       "</table>\n",
       "</div>"
      ],
      "text/plain": [
       "                     district_id  gap  gap1  gap2  gap3\n",
       "time                                                   \n",
       "2016-01-22 07:00:00          1.0  4.0   NaN   NaN   NaN\n",
       "2016-01-22 07:10:00          1.0  1.0   4.0   NaN   NaN\n",
       "2016-01-22 07:20:00          1.0  5.0   1.0   4.0   NaN\n",
       "2016-01-22 07:30:00          1.0  0.0   5.0   1.0   4.0\n",
       "2016-01-22 07:40:00          1.0  0.0   0.0   5.0   1.0"
      ]
     },
     "execution_count": 94,
     "metadata": {},
     "output_type": "execute_result"
    }
   ],
   "source": [
    "order_test_sample_series[['district_id','gap','gap1','gap2','gap3']].head()"
   ]
  },
  {
   "cell_type": "markdown",
   "metadata": {},
   "source": [
    "### VAR Model"
   ]
  },
  {
   "cell_type": "markdown",
   "metadata": {},
   "source": [
    "First I treated the data as time series and used VAR model to train it."
   ]
  },
  {
   "cell_type": "code",
   "execution_count": 15,
   "metadata": {
    "collapsed": false
   },
   "outputs": [],
   "source": [
    "import statsmodels.api as sm\n",
    "def ARMA(series, p, q):\n",
    "    arma_modpq = sm.tsa.ARMA(series, (p,q)).fit()\n",
    "    return arma_modpq\n",
    "def VAR(series, p):\n",
    "    arma_mod = sm.tsa.VAR(series).fit(p)\n",
    "    return arma_mod"
   ]
  },
  {
   "cell_type": "code",
   "execution_count": 31,
   "metadata": {
    "collapsed": false
   },
   "outputs": [],
   "source": [
    "#criteria = order_train_sample_selected.district_id in district_below5_index.values\n",
    "cols = ['gap', 'order_id', 'tj_level1','tj_level2','tj_level3', 'tj_level4']\n",
    "order_train_sample_fillna = order_train_sample_series.dropna()\n",
    "order_train_sample_fillna.gap = order_train_sample_fillna.gap.map(lambda x: float(x))\n",
    "order_train_fit_district = order_train_sample_fillna.groupby(['district_id']).apply(lambda x: VAR(x.loc[:,cols], 3))"
   ]
  },
  {
   "cell_type": "code",
   "execution_count": 32,
   "metadata": {
    "collapsed": false
   },
   "outputs": [
    {
     "data": {
      "text/html": [
       "<div>\n",
       "<table border=\"1\" class=\"dataframe\">\n",
       "  <thead>\n",
       "    <tr style=\"text-align: right;\">\n",
       "      <th></th>\n",
       "      <th>gap</th>\n",
       "      <th>order_id</th>\n",
       "      <th>tj_level1</th>\n",
       "      <th>tj_level2</th>\n",
       "      <th>tj_level3</th>\n",
       "      <th>tj_level4</th>\n",
       "    </tr>\n",
       "  </thead>\n",
       "  <tbody>\n",
       "    <tr>\n",
       "      <th>const</th>\n",
       "      <td>0.165617</td>\n",
       "      <td>-1.060974</td>\n",
       "      <td>48.360681</td>\n",
       "      <td>8.791620</td>\n",
       "      <td>2.757343</td>\n",
       "      <td>1.029470</td>\n",
       "    </tr>\n",
       "    <tr>\n",
       "      <th>L1.gap</th>\n",
       "      <td>0.143393</td>\n",
       "      <td>-0.148436</td>\n",
       "      <td>-0.630752</td>\n",
       "      <td>-0.219982</td>\n",
       "      <td>0.027208</td>\n",
       "      <td>-0.066103</td>\n",
       "    </tr>\n",
       "    <tr>\n",
       "      <th>L1.order_id</th>\n",
       "      <td>0.006277</td>\n",
       "      <td>0.423529</td>\n",
       "      <td>0.452597</td>\n",
       "      <td>0.844119</td>\n",
       "      <td>0.144420</td>\n",
       "      <td>0.057234</td>\n",
       "    </tr>\n",
       "    <tr>\n",
       "      <th>L1.tj_level1</th>\n",
       "      <td>-0.000750</td>\n",
       "      <td>0.011930</td>\n",
       "      <td>0.595841</td>\n",
       "      <td>-0.004369</td>\n",
       "      <td>0.004303</td>\n",
       "      <td>0.006225</td>\n",
       "    </tr>\n",
       "    <tr>\n",
       "      <th>L1.tj_level2</th>\n",
       "      <td>0.001473</td>\n",
       "      <td>0.043401</td>\n",
       "      <td>-0.065572</td>\n",
       "      <td>0.652262</td>\n",
       "      <td>0.089252</td>\n",
       "      <td>0.021386</td>\n",
       "    </tr>\n",
       "    <tr>\n",
       "      <th>L1.tj_level3</th>\n",
       "      <td>0.002879</td>\n",
       "      <td>0.026739</td>\n",
       "      <td>-0.000368</td>\n",
       "      <td>0.245913</td>\n",
       "      <td>0.142801</td>\n",
       "      <td>0.048966</td>\n",
       "    </tr>\n",
       "    <tr>\n",
       "      <th>L1.tj_level4</th>\n",
       "      <td>-0.001951</td>\n",
       "      <td>0.004333</td>\n",
       "      <td>-0.053413</td>\n",
       "      <td>0.180059</td>\n",
       "      <td>0.059681</td>\n",
       "      <td>0.100528</td>\n",
       "    </tr>\n",
       "    <tr>\n",
       "      <th>L2.gap</th>\n",
       "      <td>0.024272</td>\n",
       "      <td>-0.277587</td>\n",
       "      <td>0.420197</td>\n",
       "      <td>-0.646530</td>\n",
       "      <td>-0.123927</td>\n",
       "      <td>0.153831</td>\n",
       "    </tr>\n",
       "    <tr>\n",
       "      <th>L2.order_id</th>\n",
       "      <td>-0.000402</td>\n",
       "      <td>0.190762</td>\n",
       "      <td>0.123033</td>\n",
       "      <td>0.308644</td>\n",
       "      <td>0.041205</td>\n",
       "      <td>0.041631</td>\n",
       "    </tr>\n",
       "    <tr>\n",
       "      <th>L2.tj_level1</th>\n",
       "      <td>0.000004</td>\n",
       "      <td>-0.001673</td>\n",
       "      <td>0.232826</td>\n",
       "      <td>-0.006562</td>\n",
       "      <td>-0.001576</td>\n",
       "      <td>0.002766</td>\n",
       "    </tr>\n",
       "    <tr>\n",
       "      <th>L2.tj_level2</th>\n",
       "      <td>-0.000834</td>\n",
       "      <td>0.002173</td>\n",
       "      <td>0.073424</td>\n",
       "      <td>0.168649</td>\n",
       "      <td>0.012779</td>\n",
       "      <td>0.013789</td>\n",
       "    </tr>\n",
       "    <tr>\n",
       "      <th>L2.tj_level3</th>\n",
       "      <td>0.004737</td>\n",
       "      <td>0.023076</td>\n",
       "      <td>-0.104767</td>\n",
       "      <td>0.004731</td>\n",
       "      <td>0.046350</td>\n",
       "      <td>0.017476</td>\n",
       "    </tr>\n",
       "    <tr>\n",
       "      <th>L2.tj_level4</th>\n",
       "      <td>0.004142</td>\n",
       "      <td>0.057550</td>\n",
       "      <td>-0.111710</td>\n",
       "      <td>0.035883</td>\n",
       "      <td>0.066794</td>\n",
       "      <td>0.055793</td>\n",
       "    </tr>\n",
       "    <tr>\n",
       "      <th>L3.gap</th>\n",
       "      <td>0.020129</td>\n",
       "      <td>-0.095657</td>\n",
       "      <td>-1.204134</td>\n",
       "      <td>-0.297066</td>\n",
       "      <td>-0.007552</td>\n",
       "      <td>0.106114</td>\n",
       "    </tr>\n",
       "    <tr>\n",
       "      <th>L3.order_id</th>\n",
       "      <td>0.001769</td>\n",
       "      <td>0.078420</td>\n",
       "      <td>0.121705</td>\n",
       "      <td>-0.428887</td>\n",
       "      <td>-0.059988</td>\n",
       "      <td>-0.087805</td>\n",
       "    </tr>\n",
       "    <tr>\n",
       "      <th>L3.tj_level1</th>\n",
       "      <td>0.000537</td>\n",
       "      <td>-0.009264</td>\n",
       "      <td>0.078548</td>\n",
       "      <td>-0.000323</td>\n",
       "      <td>-0.001898</td>\n",
       "      <td>0.000304</td>\n",
       "    </tr>\n",
       "    <tr>\n",
       "      <th>L3.tj_level2</th>\n",
       "      <td>-0.001529</td>\n",
       "      <td>-0.019439</td>\n",
       "      <td>0.023786</td>\n",
       "      <td>0.014599</td>\n",
       "      <td>0.001425</td>\n",
       "      <td>0.010255</td>\n",
       "    </tr>\n",
       "    <tr>\n",
       "      <th>L3.tj_level3</th>\n",
       "      <td>-0.000444</td>\n",
       "      <td>-0.012179</td>\n",
       "      <td>0.042468</td>\n",
       "      <td>-0.092448</td>\n",
       "      <td>0.035563</td>\n",
       "      <td>0.028224</td>\n",
       "    </tr>\n",
       "    <tr>\n",
       "      <th>L3.tj_level4</th>\n",
       "      <td>0.009581</td>\n",
       "      <td>0.022755</td>\n",
       "      <td>-0.086154</td>\n",
       "      <td>-0.057016</td>\n",
       "      <td>-0.013624</td>\n",
       "      <td>0.044089</td>\n",
       "    </tr>\n",
       "  </tbody>\n",
       "</table>\n",
       "</div>"
      ],
      "text/plain": [
       "                   gap  order_id  tj_level1  tj_level2  tj_level3  tj_level4\n",
       "const         0.165617 -1.060974  48.360681   8.791620   2.757343   1.029470\n",
       "L1.gap        0.143393 -0.148436  -0.630752  -0.219982   0.027208  -0.066103\n",
       "L1.order_id   0.006277  0.423529   0.452597   0.844119   0.144420   0.057234\n",
       "L1.tj_level1 -0.000750  0.011930   0.595841  -0.004369   0.004303   0.006225\n",
       "L1.tj_level2  0.001473  0.043401  -0.065572   0.652262   0.089252   0.021386\n",
       "L1.tj_level3  0.002879  0.026739  -0.000368   0.245913   0.142801   0.048966\n",
       "L1.tj_level4 -0.001951  0.004333  -0.053413   0.180059   0.059681   0.100528\n",
       "L2.gap        0.024272 -0.277587   0.420197  -0.646530  -0.123927   0.153831\n",
       "L2.order_id  -0.000402  0.190762   0.123033   0.308644   0.041205   0.041631\n",
       "L2.tj_level1  0.000004 -0.001673   0.232826  -0.006562  -0.001576   0.002766\n",
       "L2.tj_level2 -0.000834  0.002173   0.073424   0.168649   0.012779   0.013789\n",
       "L2.tj_level3  0.004737  0.023076  -0.104767   0.004731   0.046350   0.017476\n",
       "L2.tj_level4  0.004142  0.057550  -0.111710   0.035883   0.066794   0.055793\n",
       "L3.gap        0.020129 -0.095657  -1.204134  -0.297066  -0.007552   0.106114\n",
       "L3.order_id   0.001769  0.078420   0.121705  -0.428887  -0.059988  -0.087805\n",
       "L3.tj_level1  0.000537 -0.009264   0.078548  -0.000323  -0.001898   0.000304\n",
       "L3.tj_level2 -0.001529 -0.019439   0.023786   0.014599   0.001425   0.010255\n",
       "L3.tj_level3 -0.000444 -0.012179   0.042468  -0.092448   0.035563   0.028224\n",
       "L3.tj_level4  0.009581  0.022755  -0.086154  -0.057016  -0.013624   0.044089"
      ]
     },
     "execution_count": 32,
     "metadata": {},
     "output_type": "execute_result"
    }
   ],
   "source": [
    "order_train_fit_district.ix[2].params"
   ]
  },
  {
   "cell_type": "markdown",
   "metadata": {},
   "source": [
    "#### Test the efficient"
   ]
  },
  {
   "cell_type": "code",
   "execution_count": 33,
   "metadata": {
    "collapsed": false
   },
   "outputs": [],
   "source": [
    "#test = pd.read_csv('test.csv', names=['district_id', 'time_label', 'gap'])"
   ]
  },
  {
   "cell_type": "code",
   "execution_count": 34,
   "metadata": {
    "collapsed": false
   },
   "outputs": [],
   "source": [
    "#test['time_period'] = test.time_label.map(lambda x: x.split('-')[3])\n",
    "#test['time'] = test.apply(lambda x: x.time_label.replace('-'+x.time_period,''), axis=1)"
   ]
  },
  {
   "cell_type": "code",
   "execution_count": 35,
   "metadata": {
    "collapsed": false
   },
   "outputs": [],
   "source": [
    "#test.time = pd.to_datetime(test.time)\n",
    "#test['weekday'] = test.time.map(lambda x: x.weekday())\n",
    "#test.time_period = test.time_period.map(lambda x: int(x))"
   ]
  },
  {
   "cell_type": "code",
   "execution_count": 36,
   "metadata": {
    "collapsed": true
   },
   "outputs": [],
   "source": [
    "def makePrediction(item):\n",
    "    prediction = -1\n",
    "    district_id = item['district_id']\n",
    "    time_label = item['time_label']\n",
    "    if district_id == 54:\n",
    "        return 1\n",
    "    params = order_train_fit_district.ix[district_id].params['gap']\n",
    "    index = order_test_sample[(order_test_sample.district_id==district_id)&\n",
    "                              (order_test_sample.time_label==time_label)].index\n",
    "    if len(index) > 0:\n",
    "        index = index[0]\n",
    "    if index >1:\n",
    "        row1 = order_test_sample.loc[index-1, cols]\n",
    "        row2 = order_test_sample.loc[index-2, cols]\n",
    "        row3 = order_test_sample.loc[index-3, cols]\n",
    "        row = [1]\n",
    "        row.extend(row1)\n",
    "        row.extend(row2)\n",
    "        row.extend(row3)\n",
    "        row=np.array(row)\n",
    "        prediction = np.dot(row, params)\n",
    "        #prediction = round(gap1*params[1]+gap2*params[2]+gap3*params[3]+params[0])#AR model\n",
    "    return prediction"
   ]
  },
  {
   "cell_type": "code",
   "execution_count": 37,
   "metadata": {
    "collapsed": false
   },
   "outputs": [],
   "source": [
    "test['prediction'] = test.apply(makePrediction, axis=1)"
   ]
  },
  {
   "cell_type": "code",
   "execution_count": 38,
   "metadata": {
    "collapsed": false
   },
   "outputs": [],
   "source": [
    "test['gap_diff'] = abs(test.prediction - test.gap)"
   ]
  },
  {
   "cell_type": "code",
   "execution_count": 39,
   "metadata": {
    "collapsed": false
   },
   "outputs": [
    {
     "data": {
      "text/plain": [
       "6.1173761022233846"
      ]
     },
     "execution_count": 39,
     "metadata": {},
     "output_type": "execute_result"
    }
   ],
   "source": [
    "test.groupby('district_id').gap_diff.mean().mean()"
   ]
  },
  {
   "cell_type": "markdown",
   "metadata": {},
   "source": [
    "Next we would only consider gap and order counts in the features."
   ]
  },
  {
   "cell_type": "code",
   "execution_count": 40,
   "metadata": {
    "collapsed": false
   },
   "outputs": [],
   "source": [
    "#criteria = order_train_sample_selected.district_id in district_below5_index.values\n",
    "cols = ['gap','order_id']\n",
    "order_train_fit_district = order_train_sample_fillna.groupby(['district_id']).apply(lambda x: VAR(x.loc[:,cols], 3))"
   ]
  },
  {
   "cell_type": "code",
   "execution_count": 41,
   "metadata": {
    "collapsed": false
   },
   "outputs": [
    {
     "data": {
      "text/plain": [
       "6.0267997086919065"
      ]
     },
     "execution_count": 41,
     "metadata": {},
     "output_type": "execute_result"
    }
   ],
   "source": [
    "test['prediction'] = test.apply(makePrediction, axis=1)\n",
    "test['gap_diff'] = abs(test.prediction - test.gap)\n",
    "test.groupby('district_id').gap_diff.mean().mean()"
   ]
  },
  {
   "cell_type": "markdown",
   "metadata": {},
   "source": [
    "Next, we would try ARMA model."
   ]
  },
  {
   "cell_type": "code",
   "execution_count": 33,
   "metadata": {
    "collapsed": false
   },
   "outputs": [],
   "source": [
    "cols = ['gap']\n",
    "order_train_fit_district = order_train_sample_fillna.groupby(['district_id']).apply(lambda x: ARMA(x.loc[:,cols], 3, 0))"
   ]
  },
  {
   "cell_type": "code",
   "execution_count": 34,
   "metadata": {
    "collapsed": false
   },
   "outputs": [
    {
     "data": {
      "text/plain": [
       "8.780294239161707"
      ]
     },
     "execution_count": 34,
     "metadata": {},
     "output_type": "execute_result"
    }
   ],
   "source": [
    "def makePrediction(item):\n",
    "    prediction = -1\n",
    "    district_id = item['district_id']\n",
    "    time_label = item['time_label']\n",
    "    if district_id == 54:\n",
    "        return 1\n",
    "    params = order_train_fit_district.ix[district_id].params\n",
    "    index = order_test_sample[(order_test_sample.district_id==district_id)&\n",
    "                              (order_test_sample.time_label==time_label)].index\n",
    "    if len(index) > 0:\n",
    "        index = index[0]\n",
    "    if index >1:\n",
    "        gap1 = order_test_sample.loc[index-1, cols]\n",
    "        gap2 = order_test_sample.loc[index-2, cols]\n",
    "        gap3 = order_test_sample.loc[index-3, cols]\n",
    "        prediction = round(gap1*params[1]+gap2*params[2]+gap3*params[3]+params[0])#AR model\n",
    "    return prediction\n",
    "test['prediction'] = test.apply(makePrediction, axis=1)\n",
    "test['gap_diff'] = abs(test.prediction - test.gap)\n",
    "test.groupby('district_id').gap_diff.mean().mean()"
   ]
  },
  {
   "cell_type": "markdown",
   "metadata": {},
   "source": [
    "## Random Tree Models"
   ]
  },
  {
   "cell_type": "markdown",
   "metadata": {},
   "source": [
    "Next, I would use some regression methods."
   ]
  },
  {
   "cell_type": "code",
   "execution_count": 86,
   "metadata": {
    "collapsed": false
   },
   "outputs": [],
   "source": [
    "feature_cols = ['district_id', 'gap1', 'gap2', 'gap3', 'order_id1','order_id2','order_id3', 'weekday']\n",
    "target_col = 'gap'  # last column is the target/label\n",
    "#for i in range(1, 2):\n",
    "    #for j in range(1, 5):\n",
    "        #feature_cols.append('tj_level'+str(j)+str(i))\n",
    "union = []\n",
    "union.extend(feature_cols)\n",
    "union.append(target_col)\n",
    "All = order_train_sample_series[union].dropna()#District 54 will be removed\n",
    "X_all = All[feature_cols]  # feature values for all students\n",
    "y_all = All[target_col]  # corresponding targets/labels"
   ]
  },
  {
   "cell_type": "code",
   "execution_count": 87,
   "metadata": {
    "collapsed": false
   },
   "outputs": [
    {
     "data": {
      "text/html": [
       "<div>\n",
       "<table border=\"1\" class=\"dataframe\">\n",
       "  <thead>\n",
       "    <tr style=\"text-align: right;\">\n",
       "      <th></th>\n",
       "      <th>district_id</th>\n",
       "      <th>gap1</th>\n",
       "      <th>gap2</th>\n",
       "      <th>gap3</th>\n",
       "      <th>order_id1</th>\n",
       "      <th>order_id2</th>\n",
       "      <th>order_id3</th>\n",
       "      <th>weekday</th>\n",
       "    </tr>\n",
       "    <tr>\n",
       "      <th>time</th>\n",
       "      <th></th>\n",
       "      <th></th>\n",
       "      <th></th>\n",
       "      <th></th>\n",
       "      <th></th>\n",
       "      <th></th>\n",
       "      <th></th>\n",
       "      <th></th>\n",
       "    </tr>\n",
       "  </thead>\n",
       "  <tbody>\n",
       "    <tr>\n",
       "      <th>2016-01-01 00:30:00</th>\n",
       "      <td>1.0</td>\n",
       "      <td>10.0</td>\n",
       "      <td>7.0</td>\n",
       "      <td>9.0</td>\n",
       "      <td>192.0</td>\n",
       "      <td>198.0</td>\n",
       "      <td>187.0</td>\n",
       "      <td>4</td>\n",
       "    </tr>\n",
       "    <tr>\n",
       "      <th>2016-01-01 00:40:00</th>\n",
       "      <td>1.0</td>\n",
       "      <td>5.0</td>\n",
       "      <td>10.0</td>\n",
       "      <td>7.0</td>\n",
       "      <td>172.0</td>\n",
       "      <td>192.0</td>\n",
       "      <td>198.0</td>\n",
       "      <td>4</td>\n",
       "    </tr>\n",
       "    <tr>\n",
       "      <th>2016-01-01 00:50:00</th>\n",
       "      <td>1.0</td>\n",
       "      <td>1.0</td>\n",
       "      <td>5.0</td>\n",
       "      <td>10.0</td>\n",
       "      <td>153.0</td>\n",
       "      <td>172.0</td>\n",
       "      <td>192.0</td>\n",
       "      <td>4</td>\n",
       "    </tr>\n",
       "    <tr>\n",
       "      <th>2016-01-01 01:00:00</th>\n",
       "      <td>1.0</td>\n",
       "      <td>1.0</td>\n",
       "      <td>1.0</td>\n",
       "      <td>5.0</td>\n",
       "      <td>132.0</td>\n",
       "      <td>153.0</td>\n",
       "      <td>172.0</td>\n",
       "      <td>4</td>\n",
       "    </tr>\n",
       "    <tr>\n",
       "      <th>2016-01-01 01:10:00</th>\n",
       "      <td>1.0</td>\n",
       "      <td>6.0</td>\n",
       "      <td>1.0</td>\n",
       "      <td>1.0</td>\n",
       "      <td>133.0</td>\n",
       "      <td>132.0</td>\n",
       "      <td>153.0</td>\n",
       "      <td>4</td>\n",
       "    </tr>\n",
       "  </tbody>\n",
       "</table>\n",
       "</div>"
      ],
      "text/plain": [
       "                     district_id  gap1  gap2  gap3  order_id1  order_id2  \\\n",
       "time                                                                       \n",
       "2016-01-01 00:30:00          1.0  10.0   7.0   9.0      192.0      198.0   \n",
       "2016-01-01 00:40:00          1.0   5.0  10.0   7.0      172.0      192.0   \n",
       "2016-01-01 00:50:00          1.0   1.0   5.0  10.0      153.0      172.0   \n",
       "2016-01-01 01:00:00          1.0   1.0   1.0   5.0      132.0      153.0   \n",
       "2016-01-01 01:10:00          1.0   6.0   1.0   1.0      133.0      132.0   \n",
       "\n",
       "                     order_id3  weekday  \n",
       "time                                     \n",
       "2016-01-01 00:30:00      187.0        4  \n",
       "2016-01-01 00:40:00      198.0        4  \n",
       "2016-01-01 00:50:00      192.0        4  \n",
       "2016-01-01 01:00:00      172.0        4  \n",
       "2016-01-01 01:10:00      153.0        4  "
      ]
     },
     "execution_count": 87,
     "metadata": {},
     "output_type": "execute_result"
    }
   ],
   "source": [
    "X_all.head()"
   ]
  },
  {
   "cell_type": "code",
   "execution_count": 88,
   "metadata": {
    "collapsed": false
   },
   "outputs": [],
   "source": [
    "#Transform district_id into categorical one\n",
    "X_all.district_id = X_all.district_id.map(lambda x: str(x))\n",
    "#X_all.time_period = X_all.time_period.map(lambda x: str(x))\n",
    "from sklearn.model_selection import train_test_split\n",
    "X_train, X_val,y_train, y_val = train_test_split(X_all, y_all, test_size=0.2, random_state=0)"
   ]
  },
  {
   "cell_type": "code",
   "execution_count": 89,
   "metadata": {
    "collapsed": false
   },
   "outputs": [],
   "source": [
    "#X_all.district_id = X_all.district_id.map(lambda x: str(x))\n",
    "train_district = X_train.district_id\n",
    "test_district = X_val.district_id\n",
    "X_train = pd.get_dummies(X_train)\n",
    "X_val = pd.get_dummies(X_val)"
   ]
  },
  {
   "cell_type": "code",
   "execution_count": 90,
   "metadata": {
    "collapsed": false
   },
   "outputs": [
    {
     "data": {
      "text/plain": [
       "(159428L, 73L)"
      ]
     },
     "execution_count": 90,
     "metadata": {},
     "output_type": "execute_result"
    }
   ],
   "source": [
    "from sklearn import preprocessing\n",
    "scaler = preprocessing.StandardScaler().fit(X_train)\n",
    "X_train= scaler.transform(X_train)\n",
    "X_val = scaler.transform(X_val)\n",
    "X_train.shape"
   ]
  },
  {
   "cell_type": "code",
   "execution_count": 45,
   "metadata": {
    "collapsed": true
   },
   "outputs": [],
   "source": [
    "def performance_metric(y_true, y_predict):\n",
    "    \"\"\" Calculates and returns the total error between true and predicted values\n",
    "        based on a performance metric chosen by the student. \"\"\"\n",
    "    #As for regression model, we use MSE metric to fit the model\n",
    "    from sklearn.metrics import mean_absolute_error\n",
    "    error = mean_absolute_error(y_true, y_predict)\n",
    "    return error"
   ]
  },
  {
   "cell_type": "code",
   "execution_count": 50,
   "metadata": {
    "collapsed": false
   },
   "outputs": [],
   "source": [
    "from sklearn.tree import DecisionTreeRegressor\n",
    "from sklearn.ensemble import RandomForestRegressor\n",
    "from sklearn.ensemble import AdaBoostRegressor\n",
    "def fit_model(X, y):\n",
    "    \"\"\" Tunes a decision tree regressor model using GridSearchCV on the input data X \n",
    "        and target labels y and returns this optimal model. \"\"\"\n",
    "\n",
    "    # Create a decision tree regressor object\n",
    "    regressor = RandomForestRegressor(random_state=111)\n",
    "    #parameters = {'n_estimators':(30, 40, 50)}\n",
    "\n",
    "    # Set up the parameters we wish to tune\n",
    "    parameters = {'max_depth':(7,8,9,10)}\n",
    "\n",
    "    # Make an appropriate scoring function\n",
    "    from sklearn.metrics import make_scorer\n",
    "    scoring_function = make_scorer(performance_metric,greater_is_better=False)\n",
    "\n",
    "    # Make the GridSearchCV object\n",
    "    from sklearn.model_selection import GridSearchCV\n",
    "    reg = GridSearchCV(regressor, parameters, scoring_function) \n",
    "\n",
    "    # Fit the learner to the data to obtain the optimal model with tuned parameters\n",
    "    reg.fit(X, y)\n",
    "\n",
    "    # Return the optimal model\n",
    "    return reg.best_estimator_"
   ]
  },
  {
   "cell_type": "code",
   "execution_count": 51,
   "metadata": {
    "collapsed": false
   },
   "outputs": [],
   "source": [
    "#district_id = X_train.district_id\n",
    "#regressor = GradientBoostingRegressor(random_state=111)\n",
    "reg = fit_model(X_train, y_train)"
   ]
  },
  {
   "cell_type": "code",
   "execution_count": 52,
   "metadata": {
    "collapsed": false
   },
   "outputs": [
    {
     "data": {
      "text/plain": [
       "3.190932583987756"
      ]
     },
     "execution_count": 52,
     "metadata": {},
     "output_type": "execute_result"
    }
   ],
   "source": [
    "from sklearn.metrics import mean_absolute_error\n",
    "preds = reg.predict(X_val)\n",
    "mean_absolute_error(preds.round(), y_val)"
   ]
  },
  {
   "cell_type": "markdown",
   "metadata": {},
   "source": [
    "Let's test the accuracy on testing data."
   ]
  },
  {
   "cell_type": "code",
   "execution_count": 53,
   "metadata": {
    "collapsed": true
   },
   "outputs": [],
   "source": [
    "def CalculateMAE(test, cols, reg):\n",
    "    test_joined = pd.merge(test, order_test_sample_series[cols], on=['district_id', 'time_label'], how='left')\n",
    "    test_joined.district_id = test_joined.district_id.map(lambda x: str(x))\n",
    "    #test_joined.day_period = test_joined.day_period.map(lambda x: str(x))\n",
    "    test_joined.time_period = test_joined.time_period.map(lambda x: str(x))\n",
    "    X_test = test_joined[feature_cols]\n",
    "    X_test = pd.get_dummies(X_test)\n",
    "    y_test = test_joined[target_col] \n",
    "    X_test = X_test.fillna(method='ffill')# \n",
    "    X_test = scaler.transform(X_test)\n",
    "    preds = reg.predict(X_test)\n",
    "    test_joined['prediction'] = preds.round()\n",
    "    test_joined['gap_diff'] = abs(test_joined.prediction - test_joined.gap)\n",
    "    print test_joined.groupby('district_id').gap_diff.mean().mean()    "
   ]
  },
  {
   "cell_type": "code",
   "execution_count": 58,
   "metadata": {
    "collapsed": false
   },
   "outputs": [
    {
     "data": {
      "text/plain": [
       "['district_id',\n",
       " 'gap1',\n",
       " 'gap2',\n",
       " 'gap3',\n",
       " 'order_id1',\n",
       " 'order_id2',\n",
       " 'order_id3',\n",
       " 'time_label']"
      ]
     },
     "execution_count": 58,
     "metadata": {},
     "output_type": "execute_result"
    }
   ],
   "source": [
    "cols = [ col for col in feature_cols]\n",
    "cols.append('time_label')\n",
    "cols.remove('weekday')\n",
    "#cols.remove('time_period')\n",
    "cols"
   ]
  },
  {
   "cell_type": "code",
   "execution_count": 59,
   "metadata": {
    "collapsed": false
   },
   "outputs": [
    {
     "name": "stdout",
     "output_type": "stream",
     "text": [
      "<class 'pandas.core.frame.DataFrame'>\n",
      "Int64Index: 1806 entries, 0 to 1805\n",
      "Data columns (total 12 columns):\n",
      "district_id    1806 non-null object\n",
      "time_label     1806 non-null object\n",
      "gap            1806 non-null int64\n",
      "time_period    1806 non-null object\n",
      "time           1806 non-null datetime64[ns]\n",
      "weekday        1806 non-null int64\n",
      "gap1           1805 non-null float64\n",
      "gap2           1804 non-null float64\n",
      "gap3           1804 non-null float64\n",
      "order_id1      1805 non-null float64\n",
      "order_id2      1804 non-null float64\n",
      "order_id3      1804 non-null float64\n",
      "dtypes: datetime64[ns](1), float64(6), int64(2), object(3)\n",
      "memory usage: 183.4+ KB\n"
     ]
    }
   ],
   "source": [
    "#Fill gap1, gap2, gap3\n",
    "test_joined = pd.merge(test, order_test_sample_series[cols], on=['district_id', 'time_label'], how='left')\n",
    "test_joined.district_id = test_joined.district_id.map(lambda x: str(x))\n",
    "#test_joined.day_period = test_joined.day_period.map(lambda x: str(x))\n",
    "test_joined.time_period = test_joined.time_period.map(lambda x: str(x))\n",
    "test_joined.info()"
   ]
  },
  {
   "cell_type": "code",
   "execution_count": 184,
   "metadata": {
    "collapsed": false
   },
   "outputs": [],
   "source": [
    "test_joined.to_csv('test_joined.csv')"
   ]
  },
  {
   "cell_type": "code",
   "execution_count": 185,
   "metadata": {
    "collapsed": false
   },
   "outputs": [],
   "source": [
    "X_test = test_joined[feature_cols]\n",
    "X_test = pd.get_dummies(X_test)\n",
    "#X_test.info()"
   ]
  },
  {
   "cell_type": "code",
   "execution_count": 186,
   "metadata": {
    "collapsed": false
   },
   "outputs": [],
   "source": [
    "#X_test = X_test.drop('district_id_54', axis=1)"
   ]
  },
  {
   "cell_type": "code",
   "execution_count": 187,
   "metadata": {
    "collapsed": false
   },
   "outputs": [
    {
     "data": {
      "text/plain": [
       "(1806, 73)"
      ]
     },
     "execution_count": 187,
     "metadata": {},
     "output_type": "execute_result"
    }
   ],
   "source": [
    "y_test = test_joined[target_col] \n",
    "X_test = X_test.fillna(method='ffill')# \n",
    "X_test.shape"
   ]
  },
  {
   "cell_type": "code",
   "execution_count": 188,
   "metadata": {
    "collapsed": false
   },
   "outputs": [],
   "source": [
    "X_test = scaler.transform(X_test)"
   ]
  },
  {
   "cell_type": "code",
   "execution_count": 189,
   "metadata": {
    "collapsed": false
   },
   "outputs": [
    {
     "data": {
      "text/plain": [
       "7.6223698781838314"
      ]
     },
     "execution_count": 189,
     "metadata": {},
     "output_type": "execute_result"
    }
   ],
   "source": [
    "preds = reg.predict(X_test)\n",
    "mean_absolute_error(preds.round(), y_test)"
   ]
  },
  {
   "cell_type": "code",
   "execution_count": 190,
   "metadata": {
    "collapsed": false
   },
   "outputs": [],
   "source": [
    "#Calculate MAE value\n",
    "test_joined['prediction'] = preds.round()\n",
    "test_joined['gap_diff'] = abs(test_joined.prediction - test_joined.gap)\n",
    "#test_joined[test_joined.district_id==54].prediction = 1"
   ]
  },
  {
   "cell_type": "code",
   "execution_count": 191,
   "metadata": {
    "collapsed": false
   },
   "outputs": [
    {
     "data": {
      "text/plain": [
       "5.297701375931967"
      ]
     },
     "execution_count": 191,
     "metadata": {},
     "output_type": "execute_result"
    }
   ],
   "source": [
    "test_joined.groupby('district_id').gap_diff.mean().mean()"
   ]
  },
  {
   "cell_type": "markdown",
   "metadata": {},
   "source": [
    "The result got improved."
   ]
  },
  {
   "cell_type": "markdown",
   "metadata": {},
   "source": [
    "## Neural Network Model"
   ]
  },
  {
   "cell_type": "code",
   "execution_count": 79,
   "metadata": {
    "collapsed": true
   },
   "outputs": [],
   "source": [
    "#feature_cols = ['district_id', 'gap1', 'gap2', 'gap3', 'order_id1','order_id2','order_id3', 'weekday']\n",
    "#target_col = 'gap'  # last column is the target/label\n",
    "#for i in range(1, 2):\n",
    "    #for j in range(1, 5):\n",
    "        #feature_cols.append('tj_level'+str(j)+str(i))\n",
    "#union = []\n",
    "#union.extend(feature_cols)\n",
    "#union.append(target_col)\n",
    "#All = order_train_sample_series[union].dropna()#District 54 will be removed\n",
    "#X_all = All[feature_cols]  # feature values for all students\n",
    "#y_all = All[target_col]  # corresponding targets/labels"
   ]
  },
  {
   "cell_type": "code",
   "execution_count": 80,
   "metadata": {
    "collapsed": true
   },
   "outputs": [],
   "source": [
    "#Transform district_id into categorical one\n",
    "#X_all.district_id = X_all.district_id.map(lambda x: str(x))\n",
    "#X_all.time_period = X_all.time_period.map(lambda x: str(x))\n",
    "#from sklearn.model_selection import train_test_split\n",
    "#X_train, X_val,y_train, y_val = train_test_split(X_all, y_all, test_size=0.2, random_state=0)\n",
    "#train_district = X_train.district_id\n",
    "#test_district = X_val.district_id\n",
    "#X_train = pd.get_dummies(X_train)\n",
    "#X_val = pd.get_dummies(X_val)"
   ]
  },
  {
   "cell_type": "code",
   "execution_count": 81,
   "metadata": {
    "collapsed": true
   },
   "outputs": [],
   "source": [
    "#scaler = preprocessing.StandardScaler().fit(X_train)\n",
    "#X_train= scaler.transform(X_train)\n",
    "#X_val = scaler.transform(X_val)"
   ]
  },
  {
   "cell_type": "markdown",
   "metadata": {},
   "source": [
    "Here, we are going to build a two-hidden-layer neural network."
   ]
  },
  {
   "cell_type": "code",
   "execution_count": 94,
   "metadata": {
    "collapsed": false
   },
   "outputs": [],
   "source": [
    "from sklearn.neural_network import MLPRegressor\n",
    "model = MLPRegressor(solver='adam', alpha=0.001,\n",
    "                     hidden_layer_sizes=(512, 128), random_state=1)\n",
    "reg = model.fit(X_train, y_train)"
   ]
  },
  {
   "cell_type": "code",
   "execution_count": 95,
   "metadata": {
    "collapsed": false
   },
   "outputs": [
    {
     "data": {
      "text/plain": [
       "3.2142158215620844"
      ]
     },
     "execution_count": 95,
     "metadata": {},
     "output_type": "execute_result"
    }
   ],
   "source": [
    "preds = reg.predict(X_val)\n",
    "mean_absolute_error(preds.round(), y_val)"
   ]
  },
  {
   "cell_type": "code",
   "execution_count": 96,
   "metadata": {
    "collapsed": false
   },
   "outputs": [
    {
     "name": "stdout",
     "output_type": "stream",
     "text": [
      "5.51935869038\n"
     ]
    }
   ],
   "source": [
    "CalculateMAE(test, cols, reg)"
   ]
  },
  {
   "cell_type": "markdown",
   "metadata": {},
   "source": [
    "It seems the perform is not so good as that of Randomforest, perhaps we need more features and more complex neuralnetworks."
   ]
  },
  {
   "cell_type": "code",
   "execution_count": null,
   "metadata": {
    "collapsed": true
   },
   "outputs": [],
   "source": []
  }
 ],
 "metadata": {
  "anaconda-cloud": {},
  "kernelspec": {
   "display_name": "Python [Root]",
   "language": "python",
   "name": "Python [Root]"
  },
  "language_info": {
   "codemirror_mode": {
    "name": "ipython",
    "version": 2
   },
   "file_extension": ".py",
   "mimetype": "text/x-python",
   "name": "python",
   "nbconvert_exporter": "python",
   "pygments_lexer": "ipython2",
   "version": "2.7.12"
  }
 },
 "nbformat": 4,
 "nbformat_minor": 0
}
